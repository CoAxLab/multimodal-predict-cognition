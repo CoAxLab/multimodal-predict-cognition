{
 "cells": [
  {
   "cell_type": "markdown",
   "metadata": {},
   "source": [
    "This notebook is for downloading the resting-state, surface, thickness and volume data from the human connectome"
   ]
  },
  {
   "cell_type": "code",
   "execution_count": null,
   "metadata": {},
   "outputs": [],
   "source": [
    "import pandas as pd\n",
    "from os.path import join as opj\n",
    "import subprocess\n",
    "import os\n",
    "import shutil"
   ]
  },
  {
   "cell_type": "code",
   "execution_count": null,
   "metadata": {},
   "outputs": [],
   "source": [
    "local_subjects = pd.read_csv(\"../data/subjects_finally_used.txt\", squeeze=True)\n",
    "\n",
    "# Exctract release of each subject and save it somewhere\n",
    "base_dir = \"path/to/data/dir\""
   ]
  },
  {
   "cell_type": "code",
   "execution_count": null,
   "metadata": {},
   "outputs": [],
   "source": [
    "def get_commands(sub_id, rel_name, output_dir):\n",
    "    \n",
    "    rel_resting_path = \"MNINonLinear/Results/rfMRI_REST1_LR/rfMRI_REST1_LR_Atlas_MSMAll_hp2000_clean.dtseries.nii\"\n",
    "    rel_surface_path = opj(\"T1w/fsaverage_LR32k/\", sub_id + \".midthickness_MSMAll_va.32k_fs_LR.dscalar.nii\")\n",
    "    rel_thickness_path = opj(\"MNINonLinear/fsaverage_LR32k/\", sub_id + \".thickness_MSMAll.32k_fs_LR.dscalar.nii\")\n",
    "    rel_volume_path = opj(\"T1w\", sub_id, \"stats/aseg.stats\")\n",
    "    \n",
    "    \n",
    "    _cmd_resting = ['aws', 's3', 'cp', \n",
    "                   opj('s3://hcp-openaccess', rel_name, sub_id, rel_resting_path),\n",
    "                   output_dir]\n",
    "    _cmd_surface = ['aws', 's3', 'cp', \n",
    "                   opj('s3://hcp-openaccess', rel_name, sub_id, rel_surface_path),\n",
    "                   output_dir]\n",
    "    _cmd_thickness = ['aws', 's3', 'cp', \n",
    "                   opj('s3://hcp-openaccess', rel_name, sub_id, rel_thickness_path),\n",
    "                   output_dir]\n",
    "    _cmd_volume = ['aws', 's3', 'cp', \n",
    "                   opj('s3://hcp-openaccess', rel_name, sub_id, rel_volume_path),\n",
    "                   output_dir]\n",
    "    \n",
    "    return _cmd_resting, _cmd_surface, _cmd_thickness, _cmd_volume"
   ]
  },
  {
   "cell_type": "code",
   "execution_count": null,
   "metadata": {},
   "outputs": [],
   "source": [
    "missing_subjects = []\n",
    "for sub_id in local_subjects.astype(str):\n",
    "    \n",
    "    output_dir = opj(base_dir, \"sub-\" + sub_id)\n",
    "    if os.path.exists(output_dir) is False:\n",
    "        os.mkdir(output_dir)\n",
    "    \n",
    "    \n",
    "    try:      \n",
    "        cmd_resting, cmd_surface, cmd_thickness, cmd_volume = get_commands(sub_id, 'HCP_1200', output_dir)\n",
    "        subprocess.run(cmd_resting)\n",
    "        subprocess.run(cmd_surface)  \n",
    "        subprocess.run(cmd_thickness)  \n",
    "        subprocess.run(cmd_volume)\n",
    "        \n",
    "        if len(os.listdir(output_dir)) != 4:\n",
    "            print(\"some file is missing\")\n",
    "            missing_subjects.append(sub_id)\n",
    "            shutil.rmtree(output_dir)\n",
    "            \n",
    "    except:\n",
    "        print(\"check subject \" + sub_id)"
   ]
  }
 ],
 "metadata": {
  "kernelspec": {
   "display_name": "Python 3",
   "language": "python",
   "name": "python3"
  },
  "language_info": {
   "codemirror_mode": {
    "name": "ipython",
    "version": 3
   },
   "file_extension": ".py",
   "mimetype": "text/x-python",
   "name": "python",
   "nbconvert_exporter": "python",
   "pygments_lexer": "ipython3",
   "version": "3.7.4"
  }
 },
 "nbformat": 4,
 "nbformat_minor": 2
}
