{
 "cells": [
  {
   "cell_type": "markdown",
   "metadata": {},
   "source": [
    "In this notebook, the downloaded data from the human connectome is exctracted and processed before building the final matrices used for the machine learning analysis."
   ]
  },
  {
   "cell_type": "code",
   "execution_count": null,
   "metadata": {},
   "outputs": [],
   "source": [
    "import numpy as np\n",
    "import pandas as pd\n",
    "import sys\n",
    "import os\n",
    "import subprocess\n",
    "from os.path import join as opj"
   ]
  },
  {
   "cell_type": "code",
   "execution_count": null,
   "metadata": {},
   "outputs": [],
   "source": [
    "data_dir = \"path/to/some/data/dir\""
   ]
  },
  {
   "cell_type": "code",
   "execution_count": null,
   "metadata": {},
   "outputs": [],
   "source": [
    "cole_atlas = opj(\"../data\", \"CortexSubcortex_ColeAnticevic_NetPartition_wSubcorGSR_parcels_LR.dlabel.nii\")\n",
    "glasser_atlas = opj(\"../data\", \"Q1-Q6_RelatedParcellation210.CorticalAreas_dil_Colors.32k_fs_LR.dlabel.nii\")"
   ]
  },
  {
   "cell_type": "markdown",
   "metadata": {},
   "source": [
    "Load the final subset of subjects to use"
   ]
  },
  {
   "cell_type": "code",
   "execution_count": null,
   "metadata": {},
   "outputs": [],
   "source": [
    "subjects = pd.read_csv(opj(data_dir, \"subjects_finally_used.txt\"), header=None).values.flatten()"
   ]
  },
  {
   "cell_type": "code",
   "execution_count": null,
   "metadata": {},
   "outputs": [],
   "source": [
    "def get_resting_files(sub_id):\n",
    "    \n",
    "    _clean_ts = opj(data_dir, \"last\", \"sub-\" + str(sub_id), \n",
    "                 \"rfMRI_REST1_LR_Atlas_MSMAll_hp2000_clean.dtseries.nii\")\n",
    "    _parcel_ts = opj(data_dir, \"final\", \"functional\", \"sub-\" + str(sub_id), \n",
    "                 \"rfMRI_REST1_LR_Atlas_MSMAll_hp2000_clean.ptseries.nii\")\n",
    "    _parcel_conn_cifti = opj(data_dir, \"final\", \"functional\", \"sub-\" + str(sub_id), \n",
    "                 \"rfMRI_REST1_LR_Atlas_MSMAll_hp2000_clean.pconn.nii\")\n",
    "    _parcel_conn_txt = opj(data_dir, \"final\", \"functional\", \"sub-\" + str(sub_id), \n",
    "                 \"connectome.txt\")\n",
    "    \n",
    "    return ( _clean_ts, _parcel_ts, _parcel_conn_cifti, _parcel_conn_txt )"
   ]
  },
  {
   "cell_type": "code",
   "execution_count": null,
   "metadata": {},
   "outputs": [],
   "source": [
    "def get_structural(sub_id):\n",
    "    \n",
    "    _cor_surface = opj(data_dir, \"last\", \"sub-\" + str(sub_id), \n",
    "                       str(sub_id) + \".midthickness_MSMAll_va.32k_fs_LR.dscalar.nii\")\n",
    "    _cor_thickness = opj(data_dir, \"last\", \"sub-\" + str(sub_id), \n",
    "                         str(sub_id) + \".thickness_MSMAll.32k_fs_LR.dscalar.nii\")\n",
    "    _sub_volumes = opj(data_dir, \"last\", \"sub-\" + str(sub_id), \n",
    "                       \"aseg.stats\")\n",
    "    \n",
    "    return ( _cor_surface, _cor_thickness, _sub_volumes)"
   ]
  },
  {
   "cell_type": "markdown",
   "metadata": {},
   "source": [
    "Process and rearrange functional data"
   ]
  },
  {
   "cell_type": "code",
   "execution_count": null,
   "metadata": {},
   "outputs": [],
   "source": [
    "for sub_id in subjects:\n",
    "    \n",
    "    if os.path.exists(opj(data_dir, \"final\", \"functional\", \"sub-\" + str(sub_id))) is False:\n",
    "        os.mkdir(opj(data_dir, \"final\", \"functional\", \"sub-\" + str(sub_id)))\n",
    "                      \n",
    "    clean_ts, parcel_ts, parcel_conn_cifti, parcel_conn_txt = get_resting_files(sub_id)\n",
    "    \n",
    "    cmd = [\"wb_command\", \"-cifti-parcellate\", clean_ts, atlas_img, \"COLUMN\", parcel_ts, \"-method\", \"MEAN\"]\n",
    "    subprocess.run(cmd)\n",
    "    pass\n",
    "\n",
    "    cmd = [\"wb_command\", \"-cifti-correlation\", parcel_ts, parcel_conn_cifti, \"-fisher-z\"]\n",
    "    subprocess.run(cmd)\n",
    "    pass\n",
    "\n",
    "    cmd = [\"wb_command\", \"-cifti-convert\", \"-to-text\", parcel_conn_cifti, parcel_conn_txt]\n",
    "    subprocess.run(cmd)\n",
    "    pass\n"
   ]
  },
  {
   "cell_type": "markdown",
   "metadata": {},
   "source": [
    "Process and rearrange structural data"
   ]
  },
  {
   "cell_type": "code",
   "execution_count": null,
   "metadata": {},
   "outputs": [],
   "source": [
    "for sub_id in subjects:\n",
    "    \n",
    "    if os.path.exists(opj(data_dir, \"final\", \"structural\", \"sub-\" + str(sub_id))) is False:\n",
    "        os.mkdir(opj(data_dir, \"final\", \"structural\", \"sub-\" + str(sub_id)))\n",
    "                      \n",
    "    cor_surface, cor_thickness, sub_volumes = get_structural(sub_id)\n",
    "    \n",
    "    # SURFACE FEATURES\n",
    "    surface_cifti = opj(data_dir, \"final\", \"structural\", \"sub-\" + str(sub_id), \"surface.pscalar.nii\")\n",
    "    output_surface = opj(data_dir, \"final\", \"structural\", \"sub-\" + str(sub_id), \"surface.txt\")\n",
    "                         \n",
    "    cmd = [\"wb_command\", \"-cifti-parcellate\", cor_surface, glasser_atlas, \"COLUMN\", surface_cifti, \"-method\", \"SUM\"]\n",
    "    subprocess.run(cmd)                         \n",
    "    cmd = [\"wb_command\", \"-cifti-convert\",\"-to-text\", surface_cifti, output_surface]\n",
    "    subprocess.run(cmd)\n",
    "    pass\n",
    "\n",
    "    # THICKNESS FEATURES\n",
    "    thickness_cifti = opj(data_dir, \"final\", \"structural\", \"sub-\" + str(sub_id), \"thickness.pscalar.nii\")\n",
    "    output_thickness = opj(data_dir, \"final\", \"structural\", \"sub-\" + str(sub_id), \"thickness.txt\")\n",
    "    \n",
    "    cmd = [\"wb_command\", \"-cifti-parcellate\", cor_thickness, glasser_atlas, \"COLUMN\", thickness_cifti, \n",
    "           \"-cifti-weights\", cor_surface, \"-method\", \"MEAN\"]\n",
    "    subprocess.run(cmd)                         \n",
    "    cmd = [\"wb_command\", \"-cifti-convert\",\"-to-text\", thickness_cifti, output_thickness]\n",
    "    subprocess.run(cmd)\n",
    "    pass\n",
    "\n",
    "    # SUBCORTICAL VOLUMES\n",
    "    output_sub_vols = opj(data_dir, \"final\", \"structural\", \"sub-\" + str(sub_id), \"sub_volumes.txt\")\n",
    "\n",
    "    cmd = [\"python2.7\", \"/usr/local/freesurfer/bin/asegstats2table\", \"-i\", sub_volumes,\n",
    "           \"--meas\", \"volume\", \"--transpose\", \"--tablefile\", output_sub_vols]\n",
    "    subprocess.run(cmd)\n",
    "    pass\n"
   ]
  }
 ],
 "metadata": {
  "kernelspec": {
   "display_name": "Python 3",
   "language": "python",
   "name": "python3"
  },
  "language_info": {
   "codemirror_mode": {
    "name": "ipython",
    "version": 3
   },
   "file_extension": ".py",
   "mimetype": "text/x-python",
   "name": "python",
   "nbconvert_exporter": "python",
   "pygments_lexer": "ipython3",
   "version": "3.7.4"
  }
 },
 "nbformat": 4,
 "nbformat_minor": 2
}
