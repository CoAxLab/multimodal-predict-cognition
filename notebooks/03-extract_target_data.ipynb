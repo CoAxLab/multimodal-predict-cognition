{
 "cells": [
  {
   "cell_type": "markdown",
   "metadata": {
    "slideshow": {
     "slide_type": "slide"
    }
   },
   "source": [
    "In this notebook we select the cognitive factors of our interest in the behavioural data of the human connectome. "
   ]
  },
  {
   "cell_type": "code",
   "execution_count": 1,
   "metadata": {
    "slideshow": {
     "slide_type": "skip"
    }
   },
   "outputs": [],
   "source": [
    "import numpy as np\n",
    "import pandas as pd\n",
    "import sys\n",
    "import os\n",
    "import h5py\n",
    "\n",
    "from os.path import join as opj\n",
    "import seaborn as sns\n",
    "import matplotlib.pylab as plt\n",
    "\n",
    "from scipy.stats import spearmanr"
   ]
  },
  {
   "cell_type": "code",
   "execution_count": 2,
   "metadata": {},
   "outputs": [],
   "source": [
    "data_dir = \"/media/javier/data/local_fingerprint_varoquox/\"\n",
    "plot_dir = \"../plots\""
   ]
  },
  {
   "cell_type": "code",
   "execution_count": 2,
   "metadata": {
    "slideshow": {
     "slide_type": "skip"
    }
   },
   "outputs": [],
   "source": [
    "demo_S1200 = pd.read_excel(opj(\"../data\", 'unrestricted_jraserod_8_16_2019_12_4_12.xlsx'))\n",
    "info_demo =  pd.read_excel(opj(\"../data\", 'HCP_S1200_DataDictionary_April_20_2018.xlsx'))\n",
    "age = pd.read_excel(opj(\"../data\", \"age.xlsx\"))\n",
    "subjects = np.loadtxt(opj(\"../data\", \"subjects_finally_used.txt\"), dtype = int)"
   ]
  },
  {
   "cell_type": "code",
   "execution_count": 3,
   "metadata": {
    "slideshow": {
     "slide_type": "skip"
    }
   },
   "outputs": [],
   "source": [
    "cognition_cols = info_demo[info_demo.category == 'Cognition'].columnHeader"
   ]
  },
  {
   "cell_type": "code",
   "execution_count": 4,
   "metadata": {
    "slideshow": {
     "slide_type": "skip"
    }
   },
   "outputs": [
    {
     "name": "stdout",
     "output_type": "stream",
     "text": [
      "PicSeq_Unadj\n",
      "The Picture Sequence Memory Test is an assessment of episodic memory for ages 3-85 years which involves the acquisition, storage and effortful recall of new information. It is considered a strong 'fluid ability' measure, with performance reaching a peak in early adulthood and declining across the life span. It involves recalling increasingly lengthy series of illustrated objects and activities that are presented in a particular order on the computer screen. Unadjusted Scale Score: Participant score is normed to those in the entire NIH Toolbox Normative Sample (18 and older), regardless of age or any other variable, where a score of 100 indicates performance that was at the national average and a score of 115 or 85, indicates performance 1 SD above or below the national average.\n",
      "\n",
      "PicSeq_AgeAdj\n",
      "The Picture Sequence Memory Test is an assessment of episodic memory for ages 3-85 years which involves the acquisition, storage and effortful recall of new information. It is considered a strong 'fluid ability' measure, with performance reaching a peak in early adulthood and declining across the life span. It involves recalling increasingly lengthy series of illustrated objects and activities that are presented in a particular order on the computer screen. Age-Adjusted Scale Score: Participant score is normed using the age appropriate band of Toolbox Norming Sample (bands of ages 18-29, or 30-35), where a score of 100 indicates performance that was at the national average and a score of 115 or 85, indicates performance 1 SD above or below the national average for participants age band. \n",
      "\n",
      "CardSort_Unadj\n",
      "The Dimensional Change Card Sort Test is a measure of executive function, specifically tapping cognitive flexibility for ages 3-85. It is considered a 'fluid ability' measure, with performance generally increasing through childhood and then declining across the adult age span. Target pictures are presented that vary along two dimensions (e.g., shape and color). Participants are asked to match a series of bivalent test pictures (e.g., yellow balls and blue trucks) to the target pictures, first according to one dimension (e.g., color) and then, after a number of trials, according to the other dimension (e.g., shape). Switch trials are also employed, in which the participant must change the dimension being matched, thus requiring the cognitive flexibility to quickly choose the correct stimulus. Scoring is based on a combination of accuracy and reaction time. Unadjusted Scale Score: Participant score is normed to those in the entire NIH Toolbox Normative Sample (18 and older), regardless of age or any other variable, where a score of 100 indicates performance that was at the national average and a score of 115 or 85, indicates performance 1 SD above or below the national average. \n",
      "\n",
      "CardSort_AgeAdj\n",
      "The Dimensional Change Card Sort Test is a measure of executive function, specifically tapping cognitive flexibility for ages 3-85. DCCS is considered a 'fluid ability' measure, with performance generally increasing through childhood and then declining across the adult age span. Target pictures are presented that vary along two dimensions (e.g., shape and color). Participants are asked to match a series of bivalent test pictures (e.g., yellow balls and blue trucks) to the target pictures, first according to one dimension (e.g., color) and then, after a number of trials, according to the other dimension (e.g., shape). Switch trials are also employed, in which the participant must change the dimension being matched, thus requiring the cognitive flexibility to quickly choose the correct stimulus. Scoring is based on a combination of accuracy and reaction time. Age-Adjusted Scale Score: Participant score is normed using the age appropriate band of Toolbox Norming Sample (bands of ages 18-29, or 30-35), where a score of 100 indicates performance that was at the national average and a score of 115 or 85, indicates performance 1 SD above or below the national average for participants age band. \n",
      "\n",
      "Flanker_Unadj\n",
      "The Flanker is a measure of executive function, specifically tapping inhibitory control and attention for ages 3-85. It is considered a fluid ability measure (i.e. measures the capacity for new learning and information processing in novel situations) in which performance reaches a peak in early adulthood, then tends to decline across the life span. The test requires the participant to focus on a given stimulus while inhibiting attention to stimuli (arrows for ages 8-85) flanking it. Sometimes the middle stimulus is pointing in the same direction as the flankers (congruent) and sometimes in the opposite direction (incongruent). Scoring is based on a combination of accuracy and reaction time. Unadjusted Scale Score: Participant score is normed to those in the entire NIH Toolbox Normative Sample (18 and older), regardless of age or any other variable, where a score of 100 indicates performance that was at the national average and a score of 115 or 85, indicates performance 1 SD above or below the national average. \n",
      "\n",
      "Flanker_AgeAdj\n",
      "The Flanker is a measure of executive function, specifically tapping inhibitory control and attention for ages 3-85. It is considered a fluid ability measure (i.e. measures the capacity for new learning and information processing in novel situations) in which performance reaches a peak in early adulthood, then tends to decline across the life span. The test requires the participant to focus on a given stimulus while inhibiting attention to stimuli (arrows for ages 8-85) flanking it. Sometimes the middle stimulus is pointing in the same direction as the flankers (congruent) and sometimes in the opposite direction (incongruent). Scoring is based on a combination of accuracy and reaction time. Age-Adjusted Scale Score: Participant score is normed using the age appropriate band of Toolbox Norming Sample (bands of ages 18-29, or 30-35), where a score of 100 indicates performance that was at the national average and a score of 115 or 85, indicates performance 1 SD above or below the national average for participants age band.\n",
      "\n",
      "PMAT24_A_CR\n",
      "Penn Matrix Test (PMAT): Number of Correct Responses. The PMAT measures fluid intelligence via non-verbal reasoning using an abbreviated version of the Raven's Progressive Matrices Form A developed by Gur and colleagues (Bilker et al. 2012).  Participants are presented with patterns made up of 2x2, 3x3 or 1x5 arrangements of squares, with one of the squares missing.  The participant must pick one of five response choices that best fits the missing square on the pattern.  The task has 24 items and 3 bonus items, arranged in order of increasing difficulty.  However, the task discontinues if the participant makes 5 incorrect responses in a row.\n",
      "\n",
      "PMAT24_A_SI\n",
      "Penn Matrix Test (PMAT): Total Skipped Items (items not presented because maximum errors allowed reached [5 in a row]). The PMAT measures fluid intelligence via non-verbal reasoning using an abbreviated version of the Raven's Progressive Matrices Form A developed by Gur and colleagues (Bilker et al. 2012).  Participants are presented with patterns made up of 2x2, 3x3 or 1x5 arrangements of squares, with one of the squares missing.  The participant must pick one of five response choices that best fits the missing square on the pattern.  The task has 24 items and 3 bonus items, arranged in order of increasing difficulty.  However, the task discontinues if the participant makes 5 incorrect responses in a row.\n",
      "\n",
      "PMAT24_A_RTCR\n",
      "Penn Matrix Test (PMAT): Median Reaction Time (RT) for Correct Responses. The RT measure can be combined with the Correct Responses measure to gauge PMAT efficiency. The PMAT measures fluid intelligence via non-verbal reasoning using an abbreviated version of the Raven's Progressive Matrices Form A developed by Gur and colleagues (Bilker et al. 2012).  Participants are presented with patterns made up of 2x2, 3x3 or 1x5 arrangements of squares, with one of the squares missing.  The participant must pick one of five response choices that best fits the missing square on the pattern.  The task has 24 items and 3 bonus items, arranged in order of increasing difficulty.  However, the task discontinues if the participant makes 5 incorrect responses in a row.\n",
      "\n",
      "ReadEng_Unadj\n",
      "The Reading Test is a CAT format measure of reading decoding skill and of crystallized abilities, those abilities that are generally more dependent upon past learning experiences and consistent across the life span for ages 7-85. The participant is asked to read and pronounce letters and words as accurately as possible. Higher scores indicate better reading ability. Unadjusted Scale Score: Participant score is normed to those in the entire NIH Toolbox Normative Sample (18 and older), regardless of age or any other variable, where a score of 100 indicates performance that was at the national average and a score of 115 or 85, indicates performance 1 SD above or below the national average.\n",
      "\n",
      "ReadEng_AgeAdj\n",
      "The Reading Test is a CAT format measure of reading decoding skill and of crystallized abilities, those abilities that are generally more dependent upon past learning experiences and consistent across the life span for ages 7-85. The participant is asked to read and pronounce letters and words as accurately as possible. Higher scores indicate better reading ability. Age-adjusted Scale Score: Participant score is normed using the age appropriate band of Toolbox Norming Sample (bands of ages 18-29, or 30-35), where a score of 100 indicates performance that was at the national average and a score of 115 or 85, indicates performance 1 SD above or below the national average for participants age band. \n",
      "\n",
      "PicVocab_Unadj\n",
      "The Picture Vocabulary Test is a CAT format measure of general vocabulary knowledge for ages 3-85 and is considered to be a strong measure of crystallized abilities (those abilities that are more dependent upon past learning experiences and are consistent across the lifespan). The participant is presented with an audio recording of a word and four photographic images on the computer screen and is asked to select the picture that most closely matches the meaning of the word. Higher scores indicate higher vocabulary ability. Unadjusted Scale Score: Participant score is normed to those in the entire NIH Toolbox Normative Sample (18 and older), regardless of age or any other variable, where a score of 100 indicates performance that was at the national average and a score of 115 or 85, indicates performance 1 SD above or below the national average. \n",
      "\n",
      "PicVocab_AgeAdj\n",
      "The Picture Vocabulary Test is a CAT format measure of general vocabulary knowledge for ages 3-85 and is considered to be a strong measure of crystallized abilities (those abilities that are more dependent upon past learning experiences and are consistent across the lifespan). The participant is presented with an audio recording of a word and four photographic images on the computer screen and is asked to select the picture that most closely matches the meaning of the word. Higher scores indicate higher vocabulary ability. Age-adjusted Scale Score: Participant score is normed using the age appropriate band of Toolbox Norming Sample (bands of ages 18-29, or 30-35), where a score of 100 indicates performance that was at the national average and a score of 115 or 85, indicates performance 1 SD above or below the national average for participants age band. \n",
      "\n",
      "ProcSpeed_Unadj\n",
      "The Pattern Comparison Processing Test is a measure of speed of processing, which is considered a 'fluid ability' because it steadily improves (time to complete task decreases) throughout childhood and adolescence, then begins to decline in adulthood. This test for ages 7-85 asks participants to discern whether two side-by-side pictures are the same or not. The items are designed to be simple to most purely measure processing speed. Higher scores indicate faster speed of processing. Unadjusted Scale Score: Participant score is normed to those in the entire NIH Toolbox Normative Sample (18 and older), regardless of age or any other variable, where a score of 100 indicates performance that was at the national average and a score of 115 or 85, indicates performance 1 SD above or below the national average. \n",
      "\n",
      "ProcSpeed_AgeAdj\n",
      "The Pattern Comparison Processing Test is a measure of speed of processing, which is considered a 'fluid ability' because it steadily improves (time to complete task decreases) throughout childhood and adolescence, then begins to decline in adulthood. This test for ages 7-85 asks participants to discern whether two side-by-side pictures are the same or not. The items are designed to be simple to most purely measure processing speed. Age-Adjusted Scale Score: Participant score is normed using the age appropriate band of Toolbox Norming Sample (bands of ages 18-29, or 30-35), where a score of 100 indicates performance that was at the national average and a score of 115 or 85, indicates performance 1 SD above or below the national average for participants age band. \n",
      "\n",
      "DDisc_SV_1mo_200\n",
      "Delay Discounting: Subjective Value for $200 at 1 month. Participants choice of an immediate amount that is equivalent to receiving $200 at 1 month. In this task, participants are presented with two choices on each trial - a smaller amount today or $200 at 1 month. Using an adjusting-amount approach, delays are fixed and reward amounts are adjusted on a trial-by-trial basis based on participants choices, to rapidly hone in on an indifference point that indicates the Subjective immediate Value of $200 in 1 month. Delay discounting describes the undervaluing of rewards that are delayed in time. It is illustrated by the fact that humans (and other animals) will often choose a smaller immediate reward over an objectively larger, but delayed reward. \n",
      "\n",
      "DDisc_SV_6mo_200\n",
      "Delay Discounting: Subjective Value for $200 at 6 months. Participants choice of an immediate amount that is equivalent to receiving $200 in 6 months. In this task, participants are presented with two choices on each trial - a smaller amount today or $200 in 6 months. Using an adjusting-amount approach, delays are fixed and reward amounts are adjusted on a trial-by-trial basis based on participants choices, to rapidly hone in on an indifference point that indicates the Subjective immediate Value of $200 in 6 months. Delay discounting describes the undervaluing of rewards that are delayed in time. It is illustrated by the fact that humans (and other animals) will often choose a smaller immediate reward over an objectively larger, but delayed reward. \n",
      "\n",
      "DDisc_SV_1yr_200\n",
      "Delay Discounting: Subjective Value for $200 at 1 year. Participants choice of an immediate amount that is equivalent to receiving $200 in 1 year. In this task, participants are presented with two choices on each trial - a smaller amount today or $200 in 1 year. Using an adjusting-amount approach, delays are fixed and reward amounts are adjusted on a trial-by-trial basis based on participants choices, to rapidly hone in on an indifference point that indicates the Subjective immediate Value of $200 in 1 year. Delay discounting describes the undervaluing of rewards that are delayed in time. It is illustrated by the fact that humans (and other animals) will often choose a smaller immediate reward over an objectively larger, but delayed reward. \n",
      "\n",
      "DDisc_SV_3yr_200\n",
      "Delay Discounting: Subjective Value for $200 at 3 years. Participants choice of an immediate amount that is equivalent to receiving $200 in 3 years. In this task, participants are presented with two choices on each trial - a smaller amount today or $200 in 3 years. Using an adjusting-amount approach, delays are fixed and reward amounts are adjusted on a trial-by-trial basis based on participants choices, to rapidly hone in on an indifference point that indicates the Subjective immediate Value of $200 in 3 years. Delay discounting describes the undervaluing of rewards that are delayed in time. It is illustrated by the fact that humans (and other animals) will often choose a smaller immediate reward over an objectively larger, but delayed reward. \n",
      "\n",
      "DDisc_SV_5yr_200\n",
      "Delay Discounting: Subjective Value for $200 at 5 years. Participants choice of an immediate amount that is equivalent to receiving $200 in 5 years. In this task, participants are presented with two choices on each trial - a smaller amount today or $200 in 5 years. Using an adjusting-amount approach, delays are fixed and reward amounts are adjusted on a trial-by-trial basis based on participants choices, to rapidly hone in on an indifference point that indicates the Subjective immediate Value of $200 in 5 years. Delay discounting describes the undervaluing of rewards that are delayed in time. It is illustrated by the fact that humans (and other animals) will often choose a smaller immediate reward over an objectively larger, but delayed reward. \n",
      "\n",
      "DDisc_SV_10yr_200\n",
      "Delay Discounting: Subjective Value for $200 at 10 years. Participants choice of an immediate amount that is equivalent to receiving $200 in 10 years. In this task, participants are presented with two choices on each trial - a smaller amount today or $200 in 10 years. Using an adjusting-amount approach, delays are fixed and reward amounts are adjusted on a trial-by-trial basis based on participants choices, to rapidly hone in on an indifference point that indicates the Subjective immediate Value of $200 in 10 years. Delay discounting describes the undervaluing of rewards that are delayed in time. It is illustrated by the fact that humans (and other animals) will often choose a smaller immediate reward over an objectively larger, but delayed reward. \n",
      "\n",
      "DDisc_SV_1mo_40K\n",
      "Delay Discounting: Subjective Value for $40K at 1 month. Participants choice of an immediate amount that is equivalent to receiving $40000 in 1 month. In this task, participants are presented with two choices on each trial - a smaller amount today or $40K in 1 month. Using an adjusting-amount approach, delays are fixed and reward amounts are adjusted on a trial-by-trial basis based on participants choices, to rapidly hone in on an indifference point that indicates the Subjective immediate Value of $40K in in 1 month. Delay discounting describes the undervaluing of rewards that are delayed in time. It is illustrated by the fact that humans (and other animals) will often choose a smaller immediate reward over an objectively larger, but delayed reward. \n",
      "\n",
      "DDisc_SV_6mo_40K\n",
      "Delay Discounting: Subjective Value for $40K at 6 months. Participants choice of an immediate amount that is equivalent to receiving $40000 in 6 months. In this task, participants are presented with two choices on each trial - a smaller amount today or $40K in 6 months. Using an adjusting-amount approach, delays are fixed and reward amounts are adjusted on a trial-by-trial basis based on participants choices, to rapidly hone in on an indifference point that indicates the Subjective immediate Value of $40K in 6 months. Delay discounting describes the undervaluing of rewards that are delayed in time. It is illustrated by the fact that humans (and other animals) will often choose a smaller immediate reward over an objectively larger, but delayed reward. \n",
      "\n",
      "DDisc_SV_1yr_40K\n",
      "Delay Discounting: Subjective Value for $40K at 1 year. Participants choice of an immediate amount that is equivalent to receiving $40000 in 1 year. In this task, participants are presented with two choices on each trial - a smaller amount today or $40K in 1 year. Using an adjusting-amount approach, delays are fixed and reward amounts are adjusted on a trial-by-trial basis based on participants choices, to rapidly hone in on an indifference point that indicates the Subjective immediate Value of $40K in 1 year. Delay discounting describes the undervaluing of rewards that are delayed in time. It is illustrated by the fact that humans (and other animals) will often choose a smaller immediate reward over an objectively larger, but delayed reward.\n",
      "\n",
      "DDisc_SV_3yr_40K\n",
      "Delay Discounting: Subjective Value for $40K at 3 years. Participants choice of an immediate amount that is equivalent to receiving $40000 in 3 years. In this task, participants are presented with two choices on each trial - a smaller amount today or $40K in 3 years. Using an adjusting-amount approach, delays are fixed and reward amounts are adjusted on a trial-by-trial basis based on participants choices, to rapidly hone in on an indifference point that indicates the Subjective immediate Value of $40K in 3 years. Delay discounting describes the undervaluing of rewards that are delayed in time. It is illustrated by the fact that humans (and other animals) will often choose a smaller immediate reward over an objectively larger, but delayed reward.\n",
      "\n",
      "DDisc_SV_5yr_40K\n",
      "Delay Discounting: Subjective Value for $40K at 5 years. Participants choice of an immediate amount that is equivalent to receiving $40000 in 5 years. In this task, participants are presented with two choices on each trial - a smaller amount today or $40K in 5 years. Using an adjusting-amount approach, delays are fixed and reward amounts are adjusted on a trial-by-trial basis based on participants choices, to rapidly hone in on an indifference point that indicates the Subjective immediate Value of $40K in 5 years. Delay discounting describes the undervaluing of rewards that are delayed in time. It is illustrated by the fact that humans (and other animals) will often choose a smaller immediate reward over an objectively larger, but delayed reward.\n",
      "\n",
      "DDisc_SV_10yr_40K\n",
      "Delay Discounting: Subjective Value for $40K at 10 years. Participants choice of an immediate amount that is equivalent to receiving $40000 in 10 years. In this task, participants are presented with two choices on each trial - a smaller amount today or $40K in 10 years. Using an adjusting-amount approach, delays are fixed and reward amounts are adjusted on a trial-by-trial basis based on participants choices, to rapidly hone in on an indifference point that indicates the Subjective immediate Value of $40K in 10 years. Delay discounting describes the undervaluing of rewards that are delayed in time. It is illustrated by the fact that humans (and other animals) will often choose a smaller immediate reward over an objectively larger, but delayed reward.\n",
      "\n",
      "DDisc_AUC_200\n",
      "Delay Discounting: Area Under the Curve (AUC) for Discounting of $200. A summary measure of Delay Discounting, the AUC discounting measure provides an index of how steeply the participant discounts a delayed reward of $200 (Myerson et al. 2001). Delay discounting describes the undervaluing of rewards that are delayed in time. It is illustrated by the fact that humans (and other animals) will often choose a smaller immediate reward over an objectively larger, but delayed reward. \n",
      "\n",
      "DDisc_AUC_40K\n",
      "Delay Discounting: Area Under the Curve (AUC) for Discounting of $40,000. A summary measure of Delay Discounting, the AUC discounting measure provides an index of how steeply the participant discounts a delayed reward of $40,000 (Myerson et al. 2001). Delay discounting describes the undervaluing of rewards that are delayed in time. It is illustrated by the fact that humans (and other animals) will often choose a smaller immediate reward over an objectively larger, but delayed reward.\n",
      "\n",
      "VSPLOT_TC\n",
      "Penn Line Orientation: Total Number Correct\n",
      "\n",
      "VSPLOT_CRTE\n",
      "Penn Line Orientation: Median Reaction Time Divided by Expected Number of Clicks for Correct Trials\n",
      "\n",
      "VSPLOT_OFF\n",
      "Penn Line Orientation:  Total Positions Off for All Trials\n",
      "\n",
      "SCPT_TP\n",
      "Short Penn CPT True Positives = Sum of CPN_TP and CPL_TP\n",
      "\n",
      "SCPT_TN\n",
      "Short Penn CPT True Negatives = Sum of CPN_TN and CPL_TPN\n",
      "\n",
      "SCPT_FP\n",
      "Short Penn CPT False Positives = Sum of CPN_FP and CPL_FP\n",
      "\n",
      "SCPT_FN\n",
      "Short Penn CPT False Negatives = Sum of CPN_FN and CPL_FN\n",
      "\n",
      "SCPT_TPRT\n",
      "Short Penn CPT Median Response Time for True Positive Responses\n",
      "\n",
      "SCPT_SEN\n",
      "Short Penn CPT Sensitivity = SCPT_TP/(SCPT_TP + SCPT_FN)\n",
      "\n",
      "SCPT_SPEC\n",
      "Short Penn CPT Specificity = SCPT_TN/(SCPT_TN + SCPT_FP)\n",
      "\n",
      "SCPT_LRNR\n",
      "Short Penn CPT Longest Run of Non-Responses)\n",
      "\n",
      "IWRD_TOT\n",
      "Penn Word Memory:  Total Number of Correct Responses\n",
      "\n",
      "IWRD_RTC\n",
      "Penn Word Memory:  Median Reaction Time for Correct Responses\n",
      "\n",
      "ListSort_Unadj\n",
      "This task assesses working memory and requires the participant to sequence different visually- and orally-presented stimuli (foods and animals) into size order. List Sorting is a measure of working memory, tapping both information processing and storage. It is considered a “fluid ability” measure, with performance tending to peak in early adulthood and then declining across the life span. Higher scores on each of these indicate higher levels of working memory. Unadjusted Scale Score: Participant score is normed to those in the entire NIH Toolbox Normative Sample (18 and older), regardless of age or any other variable, where a score of 100 indicates performance that was at the national average and a score of 115 or 85, indicates performance 1 SD above or below the national average.\n",
      "\n",
      "ListSort_AgeAdj\n",
      "This task assesses working memory and requires the participant to sequence different visually- and orally-presented stimuli (foods and animals) into size order. List Sorting is a measure of working memory, tapping both information processing and storage. It is considered a “fluid ability” measure, with performance tending to peak in early adulthood and then declining across the life span. Higher scores on each of these indicate higher levels of working memory. Age-adjusted Scale Score: Participant score is normed using the age appropriate band of Toolbox Norming Sample (bands of ages 18-29, or 30-35), where a score of 100 indicates performance that was at the national average and a score of 115 or 85, indicates performance 1 SD above or below the national average for participants age band.\n",
      "\n",
      "CogFluidComp_Unadj\n",
      "The Fluid Cognition Composite score is derived by averaging the normalized scores of each of the Toolbox tests that are fluid ability measures (Flanker, Dimensional Change Card Sort, Picture Sequence Memory, List Sorting and Pattern Comparison), then deriving scale scores based on this new distribution. One can interpret the Fluid Cognition Composite as a more global assessment of individual and group fluid cognition functioning. Higher scores indicate higher levels of functioning. Unadjusted Scale Score: Participant score is normed to those in the entire NIH Toolbox Normative Sample (18 and older), regardless of age or any other variable, where a score of 100 indicates performance that was at the national average and a score of 115 or 85, indicates performance 1 SD above or below the national average.\n",
      "\n",
      "CogFluidComp_AgeAdj\n",
      "The Fluid Cognition Composite score is derived by averaging the normalized scores of each of the Toolbox tests that are fluid ability measures (Flanker, Dimensional Change Card Sort, Picture Sequence Memory, List Sorting and Pattern Comparison), then deriving scale scores based on this new distribution. One can interpret the Fluid Cognition Composite as a more global assessment of individual and group fluid cognition functioning. Higher scores indicate higher levels of functioning. Age-adjusted Scale Score: Participant score is normed using the age appropriate band of Toolbox Norming Sample (bands of ages 18-29, or 30-35), where a score of 100 indicates performance that was at the national average and a score of 115 or 85, indicates performance 1 SD above or below the national average for participants age band.\n",
      "\n",
      "CogEarlyComp_Unadj\n",
      "The Early Childhood Composite score is derived by averaging the normalized scores of each of the four Toolbox cognition measures that comprise the Early Childhood Battery (Picture Vocabulary, Flanker, DCCS and Picture Sequence Memory), then deriving scale scores based on this new distribution. The Early Childhood Composite Score can be interpreted much like the Cognitive Function Composite and it provides a highly reliable overall snapshot of general cognitive functioning. Higher scores indicate higher levels of functioning. Unadjusted Scale Score: Participant score is normed to those in the entire NIH Toolbox Normative Sample (18 and older), regardless of age or any other variable, where a score of 100 indicates performance that was at the national average and a score of 115 or 85, indicates performance 1 SD above or below the national average\n",
      "\n",
      "CogEarlyComp_AgeAdj\n",
      "The Early Childhood Composite score is derived by averaging the normalized scores of each of the four Toolbox cognition measures that comprise the Early Childhood Battery (Picture Vocabulary, Flanker, DCCS and Picture Sequence Memory), then deriving scale scores based on this new distribution. The Early Childhood Composite Score can be interpreted much like the Cognitive Function Composite and it provides a highly reliable overall snapshot of general cognitive functioning. Higher scores indicate higher levels of functioning. Age-adjusted Scale Score: Participant score is normed using the age appropriate band of Toolbox Norming Sample (bands of ages 18-29, or 30-35), where a score of 100 indicates performance that was at the national average and a score of 115 or 85, indicates performance 1 SD above or below the national average for participants age band.\n",
      "\n",
      "CogTotalComp_Unadj\n",
      "The Cognitive Function Composite score is derived by averaging the normalized scores of each of the Fluid and Crystallized cognition measures, then deriving scale scores based on this new distribution. Higher scores indicate higher levels of cognitive functioning. Unadjusted Scale Score: Participant score is normed to those in the entire NIH Toolbox Normative Sample (18 and older), regardless of age or any other variable, where a score of 100 indicates performance that was at the national average and a score of 115 or 85, indicates performance 1 SD above or below the national average.\n",
      "\n",
      "CogTotalComp_AgeAdj\n",
      "The Cognitive Function Composite score is derived by averaging the normalized scores of each of the Fluid and Crystallized cognition measures, then deriving scale scores based on this new distribution. Higher scores indicate higher levels of cognitive functioning. Age-adjusted Scale Score: Participant score is normed using the age appropriate band of Toolbox Norming Sample (bands of ages 18-29, or 30-35), where a score of 100 indicates performance that was at the national average and a score of 115 or 85, indicates performance 1 SD above or below the national average for participants age band.\n",
      "\n",
      "CogCrystalComp_Unadj\n",
      "The Crystallized Cognition Composite score is derived by averaging the normalized scores of each of the Toolbox tests that are crystallized measures (Picture Vocabulary and Reading Tests), then deriving scale scores based on this new distribution. One can interpret the Crystallized Cognition Composite as a more global assessment of individual and group verbal reasoning. Higher scores indicate higher levels of functioning. Unadjusted Scale Score: Participant score is normed to those in the entire NIH Toolbox Normative Sample (18 and older), regardless of age or any other variable, where a score of 100 indicates performance that was at the national average and a score of 115 or 85, indicates performance 1 SD above or below the national average.\n",
      "\n",
      "CogCrystalComp_AgeAdj\n",
      "The Crystallized Cognition Composite score is derived by averaging the normalized scores of each of the Toolbox tests that are crystallized measures (Picture Vocabulary and Reading Tests), then deriving scale scores based on this new distribution. One can interpret the Crystallized Cognition Composite as a more global assessment of individual and group verbal reasoning. Higher scores indicate higher levels of functioning. Age-adjusted Scale Score: Participant score is normed using the age appropriate band of Toolbox Norming Sample (bands of ages 18-29, or 30-35), where a score of 100 indicates performance that was at the national average and a score of 115 or 85, indicates performance 1 SD above or below the national average for participants age band.\n",
      "\n"
     ]
    }
   ],
   "source": [
    "for name, line in zip(cognition_cols, info_demo[info_demo.category == 'Cognition'].description):\n",
    "    print(name)\n",
    "    print(line)\n",
    "    print(\"\" )"
   ]
  },
  {
   "cell_type": "code",
   "execution_count": 5,
   "metadata": {
    "slideshow": {
     "slide_type": "skip"
    }
   },
   "outputs": [],
   "source": [
    "# Select the subset of subjects used\n",
    "demo_sub = pd.merge(pd.DataFrame({'Subject':subjects}), demo_S1200, on='Subject')"
   ]
  },
  {
   "cell_type": "code",
   "execution_count": 6,
   "metadata": {
    "slideshow": {
     "slide_type": "skip"
    }
   },
   "outputs": [],
   "source": [
    "demo_sub_w_age = pd.merge(demo_sub, age, on = 'Subject')"
   ]
  },
  {
   "cell_type": "code",
   "execution_count": 7,
   "metadata": {
    "slideshow": {
     "slide_type": "skip"
    }
   },
   "outputs": [
    {
     "data": {
      "text/html": [
       "<div>\n",
       "<style scoped>\n",
       "    .dataframe tbody tr th:only-of-type {\n",
       "        vertical-align: middle;\n",
       "    }\n",
       "\n",
       "    .dataframe tbody tr th {\n",
       "        vertical-align: top;\n",
       "    }\n",
       "\n",
       "    .dataframe thead th {\n",
       "        text-align: right;\n",
       "    }\n",
       "</style>\n",
       "<table border=\"1\" class=\"dataframe\">\n",
       "  <thead>\n",
       "    <tr style=\"text-align: right;\">\n",
       "      <th></th>\n",
       "      <th>Age</th>\n",
       "      <th>Age_in_Yrs</th>\n",
       "    </tr>\n",
       "  </thead>\n",
       "  <tbody>\n",
       "    <tr>\n",
       "      <th>0</th>\n",
       "      <td>26-30</td>\n",
       "      <td>27</td>\n",
       "    </tr>\n",
       "    <tr>\n",
       "      <th>1</th>\n",
       "      <td>26-30</td>\n",
       "      <td>27</td>\n",
       "    </tr>\n",
       "    <tr>\n",
       "      <th>2</th>\n",
       "      <td>31-35</td>\n",
       "      <td>33</td>\n",
       "    </tr>\n",
       "    <tr>\n",
       "      <th>3</th>\n",
       "      <td>26-30</td>\n",
       "      <td>27</td>\n",
       "    </tr>\n",
       "    <tr>\n",
       "      <th>4</th>\n",
       "      <td>31-35</td>\n",
       "      <td>35</td>\n",
       "    </tr>\n",
       "  </tbody>\n",
       "</table>\n",
       "</div>"
      ],
      "text/plain": [
       "     Age  Age_in_Yrs\n",
       "0  26-30          27\n",
       "1  26-30          27\n",
       "2  31-35          33\n",
       "3  26-30          27\n",
       "4  31-35          35"
      ]
     },
     "execution_count": 7,
     "metadata": {},
     "output_type": "execute_result"
    }
   ],
   "source": [
    "demo_sub_w_age.loc[:,['Age', 'Age_in_Yrs']].head()"
   ]
  },
  {
   "cell_type": "markdown",
   "metadata": {
    "slideshow": {
     "slide_type": "skip"
    }
   },
   "source": [
    "If we compute the bins using the same cuts as in the age by bins, it should give the same result"
   ]
  },
  {
   "cell_type": "code",
   "execution_count": 8,
   "metadata": {
    "slideshow": {
     "slide_type": "skip"
    }
   },
   "outputs": [
    {
     "data": {
      "text/plain": [
       "26-30    461\n",
       "31-35    358\n",
       "22-25    221\n",
       "36+       10\n",
       "Name: Age_in_Yrs, dtype: int64"
      ]
     },
     "execution_count": 8,
     "metadata": {},
     "output_type": "execute_result"
    }
   ],
   "source": [
    "pd.cut(demo_sub_w_age['Age_in_Yrs'], bins = [21, 25, 30, 35, 1000], \n",
    "       right=True, labels=[\"22-25\", \"26-30\", \"31-35\", \"36+\"]).value_counts()"
   ]
  },
  {
   "cell_type": "code",
   "execution_count": 9,
   "metadata": {
    "slideshow": {
     "slide_type": "skip"
    }
   },
   "outputs": [
    {
     "data": {
      "text/plain": [
       "26-30    461\n",
       "31-35    358\n",
       "22-25    221\n",
       "36+       10\n",
       "Name: Age, dtype: int64"
      ]
     },
     "execution_count": 9,
     "metadata": {},
     "output_type": "execute_result"
    }
   ],
   "source": [
    "demo_sub.Age.value_counts()"
   ]
  },
  {
   "cell_type": "code",
   "execution_count": 10,
   "metadata": {
    "slideshow": {
     "slide_type": "fragment"
    }
   },
   "outputs": [
    {
     "name": "stdout",
     "output_type": "stream",
     "text": [
      "There are 21 subjects with at least one NaN score... \n",
      "\n",
      "These subjects are:  [102109, 111009, 111514, 137431, 140319, 146634, 156233, 178647, 191033, 214726, 236130, 284646, 390645, 393247, 429040, 510225, 594156, 635245, 688569, 706040, 872764] \n",
      "\n",
      "As a consequence, the final dataset of cognitive scores will have 1029 total subjects\n"
     ]
    }
   ],
   "source": [
    "nan_scores = demo_sub_w_age.loc[:, cognition_cols].isna().any(axis=1)\n",
    "print(\"There are %d subjects with at least one NaN score... \\n\" % nan_scores.sum())\n",
    "print(\"These subjects are: \", list(demo_sub_w_age[nan_scores].Subject), '\\n')\n",
    "print(\"As a consequence, the final dataset of cognitive scores \" \n",
    "      \"will have %d total subjects\" % demo_sub_w_age.loc[~nan_scores, cognition_cols].shape[0])"
   ]
  },
  {
   "cell_type": "code",
   "execution_count": 11,
   "metadata": {},
   "outputs": [
    {
     "data": {
      "text/plain": [
       "F    550\n",
       "M    479\n",
       "Name: Gender, dtype: int64"
      ]
     },
     "execution_count": 11,
     "metadata": {},
     "output_type": "execute_result"
    }
   ],
   "source": [
    "demo_sub_w_age.loc[~nan_scores,:].Gender.value_counts()"
   ]
  },
  {
   "cell_type": "code",
   "execution_count": 12,
   "metadata": {},
   "outputs": [
    {
     "data": {
      "text/plain": [
       "count    1029.000000\n",
       "mean       28.734694\n",
       "std         3.678544\n",
       "min        22.000000\n",
       "25%        26.000000\n",
       "50%        29.000000\n",
       "75%        32.000000\n",
       "max        37.000000\n",
       "Name: Age_in_Yrs, dtype: float64"
      ]
     },
     "execution_count": 12,
     "metadata": {},
     "output_type": "execute_result"
    }
   ],
   "source": [
    "demo_sub_w_age.loc[~nan_scores, 'Age_in_Yrs'].describe()"
   ]
  },
  {
   "cell_type": "code",
   "execution_count": 13,
   "metadata": {},
   "outputs": [],
   "source": [
    "Y_cognition = demo_sub_w_age.loc[~nan_scores, cognition_cols]\n",
    "age_cognition = demo_sub_w_age.loc[~nan_scores, 'Age_in_Yrs'].values\n",
    "age_ranges = demo_sub_w_age.loc[~nan_scores, 'Age'].values\n",
    "subjects = demo_sub_w_age.loc[~nan_scores, 'Subject'].values"
   ]
  },
  {
   "cell_type": "markdown",
   "metadata": {},
   "source": [
    "We just take one score for each of the predefine a priori cognitive domains. As a consequence, we will have in this scenario the following scores:\n",
    "\n",
    "- CogTotalComp_Unadj (General cognition)\n",
    "- CogFluidComp_Unadj (Fluid Intelligence)\n",
    "- CogCrystalComp_Unadj (Crystallized Intelligence)\n",
    "- SCPT_SEN (Sustained Attention)\n",
    "- DDisc_AUC_200 (Impulsivity)\n",
    "- IWRD_TOT (Working Memory)\n",
    "- VSPLOT_TC (Spatial Orientation)"
   ]
  },
  {
   "cell_type": "code",
   "execution_count": 14,
   "metadata": {},
   "outputs": [],
   "source": [
    "domain_scores = ['CogTotalComp_Unadj',\n",
    "                 'CogFluidComp_Unadj', \n",
    "                 'CogCrystalComp_Unadj', \n",
    "                 'SCPT_SEN', \n",
    "                 'DDisc_AUC_200', \n",
    "                 'IWRD_TOT', \n",
    "                 'VSPLOT_TC']"
   ]
  },
  {
   "cell_type": "code",
   "execution_count": 15,
   "metadata": {},
   "outputs": [],
   "source": [
    "Y_domain_cog = Y_cognition.loc[:, domain_scores]"
   ]
  },
  {
   "cell_type": "code",
   "execution_count": 16,
   "metadata": {},
   "outputs": [],
   "source": [
    "from scipy.stats import kurtosis, skew\n",
    "means = Y_domain_cog.mean()\n",
    "medians = Y_domain_cog.median()\n",
    "skews = skew(Y_domain_cog.values)\n",
    "kurtosis = kurtosis(Y_domain_cog.values)\n",
    "low_p, high_p = np.percentile(Y_domain_cog.values, q=[25, 75], axis=0)\n",
    "iqr = high_p - low_p"
   ]
  },
  {
   "cell_type": "code",
   "execution_count": 17,
   "metadata": {},
   "outputs": [],
   "source": [
    "mild_outliers = []\n",
    "extreme_outliers = []\n",
    "\n",
    "for ii in range(Y_domain_cog.shape[1]):\n",
    "    \n",
    "    data = Y_domain_cog.iloc[:, ii].values\n",
    "    low_cond = low_p[ii] - iqr[ii]*1.5\n",
    "    high_cond = high_p[ii] + iqr[ii]*1.5\n",
    "\n",
    "    mild_outliers.append(sum((data < low_cond) | (data > high_cond))/len(data))\n",
    "    \n",
    "    low_cond = low_p[ii] - iqr[ii]*3.0\n",
    "    high_cond = high_p[ii] + iqr[ii]*3.0\n",
    "\n",
    "        \n",
    "    extreme_outliers.append(sum((data < low_cond) | (data > high_cond))/len(data))"
   ]
  },
  {
   "cell_type": "code",
   "execution_count": 18,
   "metadata": {},
   "outputs": [],
   "source": [
    "#Bootstrap to compute the confidence intervals\n",
    "from sklearn.utils import resample\n",
    "\n",
    "n_boots = 1000\n",
    "alpha = 0.05\n",
    "RANDOM_STATE = 0 \n",
    "\n",
    "np.random.seed(RANDOM_STATE)\n",
    "\n",
    "\n",
    "mean_boots = []\n",
    "for ii in range(n_boots):\n",
    "    Y_boot = resample(Y_domain_cog)\n",
    "    \n",
    "    mean_boots.append(np.mean(Y_boot, axis=0))\n",
    "    \n",
    "mean_boots = np.array(mean_boots)\n",
    "\n",
    "low_ci, high_ci = np.quantile(mean_boots, axis=0, q=[alpha/2, 1-alpha/2])"
   ]
  },
  {
   "cell_type": "code",
   "execution_count": 19,
   "metadata": {},
   "outputs": [
    {
     "data": {
      "text/html": [
       "<div>\n",
       "<style scoped>\n",
       "    .dataframe tbody tr th:only-of-type {\n",
       "        vertical-align: middle;\n",
       "    }\n",
       "\n",
       "    .dataframe tbody tr th {\n",
       "        vertical-align: top;\n",
       "    }\n",
       "\n",
       "    .dataframe thead th {\n",
       "        text-align: right;\n",
       "    }\n",
       "</style>\n",
       "<table border=\"1\" class=\"dataframe\">\n",
       "  <thead>\n",
       "    <tr style=\"text-align: right;\">\n",
       "      <th></th>\n",
       "      <th>mean</th>\n",
       "      <th>median</th>\n",
       "      <th>skewness</th>\n",
       "      <th>kurtosis</th>\n",
       "      <th>% Mild outliers</th>\n",
       "      <th>% Extreme outliers</th>\n",
       "      <th>low CI</th>\n",
       "      <th>high CI</th>\n",
       "    </tr>\n",
       "  </thead>\n",
       "  <tbody>\n",
       "    <tr>\n",
       "      <th>CogTotalComp_Unadj</th>\n",
       "      <td>122.28</td>\n",
       "      <td>120.77</td>\n",
       "      <td>0.21</td>\n",
       "      <td>-0.49</td>\n",
       "      <td>0.00</td>\n",
       "      <td>0.00</td>\n",
       "      <td>121.37</td>\n",
       "      <td>123.17</td>\n",
       "    </tr>\n",
       "    <tr>\n",
       "      <th>CogFluidComp_Unadj</th>\n",
       "      <td>115.43</td>\n",
       "      <td>114.15</td>\n",
       "      <td>0.26</td>\n",
       "      <td>-0.46</td>\n",
       "      <td>0.00</td>\n",
       "      <td>0.00</td>\n",
       "      <td>114.72</td>\n",
       "      <td>116.13</td>\n",
       "    </tr>\n",
       "    <tr>\n",
       "      <th>CogCrystalComp_Unadj</th>\n",
       "      <td>117.90</td>\n",
       "      <td>117.81</td>\n",
       "      <td>0.11</td>\n",
       "      <td>0.09</td>\n",
       "      <td>0.01</td>\n",
       "      <td>0.00</td>\n",
       "      <td>117.29</td>\n",
       "      <td>118.50</td>\n",
       "    </tr>\n",
       "    <tr>\n",
       "      <th>SCPT_SEN</th>\n",
       "      <td>0.96</td>\n",
       "      <td>0.97</td>\n",
       "      <td>-3.29</td>\n",
       "      <td>19.76</td>\n",
       "      <td>0.04</td>\n",
       "      <td>0.01</td>\n",
       "      <td>0.95</td>\n",
       "      <td>0.96</td>\n",
       "    </tr>\n",
       "    <tr>\n",
       "      <th>DDisc_AUC_200</th>\n",
       "      <td>0.26</td>\n",
       "      <td>0.20</td>\n",
       "      <td>1.33</td>\n",
       "      <td>1.57</td>\n",
       "      <td>0.04</td>\n",
       "      <td>0.00</td>\n",
       "      <td>0.25</td>\n",
       "      <td>0.27</td>\n",
       "    </tr>\n",
       "    <tr>\n",
       "      <th>IWRD_TOT</th>\n",
       "      <td>35.64</td>\n",
       "      <td>36.00</td>\n",
       "      <td>-0.82</td>\n",
       "      <td>0.57</td>\n",
       "      <td>0.01</td>\n",
       "      <td>0.00</td>\n",
       "      <td>35.45</td>\n",
       "      <td>35.81</td>\n",
       "    </tr>\n",
       "    <tr>\n",
       "      <th>VSPLOT_TC</th>\n",
       "      <td>14.93</td>\n",
       "      <td>15.00</td>\n",
       "      <td>-0.27</td>\n",
       "      <td>-0.14</td>\n",
       "      <td>0.00</td>\n",
       "      <td>0.00</td>\n",
       "      <td>14.67</td>\n",
       "      <td>15.23</td>\n",
       "    </tr>\n",
       "  </tbody>\n",
       "</table>\n",
       "</div>"
      ],
      "text/plain": [
       "                        mean  median  skewness  kurtosis  % Mild outliers  \\\n",
       "CogTotalComp_Unadj    122.28  120.77      0.21     -0.49             0.00   \n",
       "CogFluidComp_Unadj    115.43  114.15      0.26     -0.46             0.00   \n",
       "CogCrystalComp_Unadj  117.90  117.81      0.11      0.09             0.01   \n",
       "SCPT_SEN                0.96    0.97     -3.29     19.76             0.04   \n",
       "DDisc_AUC_200           0.26    0.20      1.33      1.57             0.04   \n",
       "IWRD_TOT               35.64   36.00     -0.82      0.57             0.01   \n",
       "VSPLOT_TC              14.93   15.00     -0.27     -0.14             0.00   \n",
       "\n",
       "                      % Extreme outliers  low CI  high CI  \n",
       "CogTotalComp_Unadj                  0.00  121.37   123.17  \n",
       "CogFluidComp_Unadj                  0.00  114.72   116.13  \n",
       "CogCrystalComp_Unadj                0.00  117.29   118.50  \n",
       "SCPT_SEN                            0.01    0.95     0.96  \n",
       "DDisc_AUC_200                       0.00    0.25     0.27  \n",
       "IWRD_TOT                            0.00   35.45    35.81  \n",
       "VSPLOT_TC                           0.00   14.67    15.23  "
      ]
     },
     "execution_count": 19,
     "metadata": {},
     "output_type": "execute_result"
    }
   ],
   "source": [
    "# Table 1 of the paper\n",
    "pd.DataFrame({'mean': np.round(means, 2), \n",
    "              'median': np.round(medians, 2), \n",
    "              'skewness': np.round(skews, 2), \n",
    "              'kurtosis': np.round(kurtosis, 2),\n",
    "              '% Mild outliers': np.round(mild_outliers, 2),\n",
    "              '% Extreme outliers': np.round(extreme_outliers,2),\n",
    "              'low CI': np.round(low_ci, 2),\n",
    "              'high CI': np.round(high_ci, 2)})"
   ]
  },
  {
   "cell_type": "code",
   "execution_count": 20,
   "metadata": {},
   "outputs": [
    {
     "name": "stdout",
     "output_type": "stream",
     "text": [
      "\\begin{tabular}{lrrrrrrr}\n",
      "\\toprule\n",
      "{} &  CogTotalComp\\_Unadj &  CogFluidComp\\_Unadj &  CogCrystalComp\\_Unadj &  SCPT\\_SEN &  DDisc\\_AUC\\_200 &  IWRD\\_TOT &  VSPLOT\\_TC \\\\\n",
      "\\midrule\n",
      "mean               &              122.28 &              115.43 &                117.90 &      0.96 &           0.26 &     35.64 &      14.93 \\\\\n",
      "median             &              120.77 &              114.15 &                117.81 &      0.97 &           0.20 &     36.00 &      15.00 \\\\\n",
      "skewness           &                0.21 &                0.26 &                  0.11 &     -3.29 &           1.33 &     -0.82 &      -0.27 \\\\\n",
      "kurtosis           &               -0.49 &               -0.46 &                  0.09 &     19.76 &           1.57 &      0.57 &      -0.14 \\\\\n",
      "\\% Mild outliers    &                0.00 &                0.00 &                  0.01 &      0.04 &           0.04 &      0.01 &       0.00 \\\\\n",
      "\\% Extreme outliers &                0.00 &                0.00 &                  0.00 &      0.01 &           0.00 &      0.00 &       0.00 \\\\\n",
      "low CI             &              121.37 &              114.72 &                117.29 &      0.95 &           0.25 &     35.45 &      14.67 \\\\\n",
      "high CI            &              123.17 &              116.13 &                118.50 &      0.96 &           0.27 &     35.81 &      15.23 \\\\\n",
      "\\bottomrule\n",
      "\\end{tabular}\n",
      "\n"
     ]
    }
   ],
   "source": [
    "# In latex form\n",
    "print(pd.DataFrame({'mean': np.round(means, 2), \n",
    "              'median': np.round(medians, 2), \n",
    "              'skewness': np.round(skews, 2), \n",
    "              'kurtosis': np.round(kurtosis, 2),\n",
    "              '% Mild outliers': np.round(mild_outliers, 2),\n",
    "              '% Extreme outliers': np.round(extreme_outliers,2),\n",
    "              'low CI': np.round(low_ci, 2),\n",
    "              'high CI': np.round(high_ci, 2)}).T.to_latex())"
   ]
  },
  {
   "cell_type": "code",
   "execution_count": 21,
   "metadata": {},
   "outputs": [
    {
     "data": {
      "text/plain": [
       "<Figure size 720x720 with 0 Axes>"
      ]
     },
     "metadata": {},
     "output_type": "display_data"
    },
    {
     "data": {
      "image/png": "[encoded data removed]",
      "text/plain": [
       "<Figure size 288x288 with 2 Axes>"
      ]
     },
     "metadata": {
      "needs_background": "light"
     },
     "output_type": "display_data"
    }
   ],
   "source": [
    "# Pearson Correlation between each score\n",
    "\n",
    "plt.figure(figsize=(10, 10))\n",
    "plt.matshow(Y_domain_cog.corr('spearman'), cmap='seismic', vmax=1, vmin=-1)\n",
    "\n",
    "plt.yticks(np.arange(len(domain_scores)), domain_scores)\n",
    "plt.xticks(np.arange(len(domain_scores)), domain_scores, rotation = 90)\n",
    "plt.colorbar(fraction=0.046, pad=0.04)\n",
    "pass"
   ]
  },
  {
   "cell_type": "code",
   "execution_count": 22,
   "metadata": {},
   "outputs": [],
   "source": [
    "f = h5py.File(opj(\"../data\", \"data_response_variables.hdf5\"), \"w\")\n",
    "\n",
    "f.create_dataset(\"Y_cognition\", data = Y_domain_cog.values)\n",
    "f.create_dataset(\"age_cognition\", data = age_cognition)\n",
    "f.create_dataset(\"age_ranges\", data = np.array(age_ranges, dtype='S'))\n",
    "f.create_dataset(\"scores\", data = np.array(domain_scores, dtype='S'))\n",
    "f.create_dataset(\"subjects\", data = subjects)\n",
    "f.close()"
   ]
  }
 ],
 "metadata": {
  "celltoolbar": "Slideshow",
  "kernelspec": {
   "display_name": "Python 3",
   "language": "python",
   "name": "python3"
  },
  "language_info": {
   "codemirror_mode": {
    "name": "ipython",
    "version": 3
   },
   "file_extension": ".py",
   "mimetype": "text/x-python",
   "name": "python",
   "nbconvert_exporter": "python",
   "pygments_lexer": "ipython3",
   "version": "3.7.4"
  }
 },
 "nbformat": 4,
 "nbformat_minor": 2
}
