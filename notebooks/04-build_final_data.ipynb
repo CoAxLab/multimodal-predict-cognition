{
 "cells": [
  {
   "cell_type": "markdown",
   "metadata": {},
   "source": [
    "In this notebook we build the final data to be analysed. "
   ]
  },
  {
   "cell_type": "code",
   "execution_count": 1,
   "metadata": {},
   "outputs": [],
   "source": [
    "import numpy as np\n",
    "import pandas as pd\n",
    "from os.path import join as opj\n",
    "from scipy.io import loadmat\n",
    "import h5py"
   ]
  },
  {
   "cell_type": "code",
   "execution_count": 2,
   "metadata": {},
   "outputs": [],
   "source": [
    "data_dir = \"path/to/feature/data\""
   ]
  },
  {
   "cell_type": "code",
   "execution_count": 3,
   "metadata": {},
   "outputs": [],
   "source": [
    "f = h5py.File(opj(\"../data\", \"data_response_variables.hdf5\"), \"r\")\n",
    "YY_domain_cognition = f['Y_cognition'][:]\n",
    "subjects = f['subjects'][:]\n",
    "f.close()"
   ]
  },
  {
   "cell_type": "code",
   "execution_count": 13,
   "metadata": {},
   "outputs": [],
   "source": [
    "connectome_features, surface_features, thickness_features, sub_vols_features = [], [], [], []\n",
    "\n",
    "for sub_id in subjects:\n",
    "    output_connectome = opj(data_dir, \"final\", \"functional\", \"sub-\" + str(sub_id), \"connectome.txt\")\n",
    "    connectome = np.loadtxt(output_connectome)\n",
    "    connectome_features.append(connectome[np.triu_indices_from(connectome, k=1)])\n",
    "    \n",
    "    output_surface = opj(data_dir, \"final\", \"structural\", \"sub-\" + str(sub_id), \"surface.txt\")\n",
    "    surface_features.append(np.loadtxt(output_surface))\n",
    "    \n",
    "    output_thickness = opj(data_dir, \"final\", \"structural\", \"sub-\" + str(sub_id), \"thickness.txt\")\n",
    "    thickness_features.append(np.loadtxt(output_thickness))\n",
    "    \n",
    "    output_sub_vols = opj(data_dir, \"final\", \"structural\", \"sub-\" + str(sub_id), \"sub_volumes.txt\")\n",
    "    sub_vols_df = pd.read_csv(output_sub_vols, sep=\"\\t\")\n",
    "    sub_vols_features.append(sub_vols_df.iloc[:,1].values)\n",
    "    \n",
    "connectome_features = np.asarray(connectome_features)\n",
    "surface_features = np.asarray(surface_features)\n",
    "thickness_features = np.asarray(thickness_features)\n",
    "sub_vols_features = np.asarray(sub_vols_features )"
   ]
  },
  {
   "cell_type": "code",
   "execution_count": 15,
   "metadata": {},
   "outputs": [],
   "source": [
    "# Here we load the local connectome data, previously downloaded from  \n",
    "# http://dsi-studio.labsolver.org/download-images/local-connectome-fingerprints-of-hcp-1062-subjects-for-neofac-prediction\n",
    "loc_conn_names = loadmat(opj(data_dir,\"HCP1062_NEOFAC_fp.mat\"), \n",
    "                         squeeze_me = True, variable_names = \"names\")['names']\n",
    "loc_conn_dat = loadmat(opj(data_dir,\"HCP1062_NEOFAC_fp.mat\"), \n",
    "                       squeeze_me = True, variable_names = \"subjects\")['subjects']"
   ]
  },
  {
   "cell_type": "code",
   "execution_count": 16,
   "metadata": {},
   "outputs": [],
   "source": [
    "loc_conn_features = []\n",
    "\n",
    "for subj in subjects:\n",
    "\n",
    "    loc_conn_features.append(loc_conn_dat[loc_conn_names == subj].flatten())\n",
    "\n",
    "loc_conn_features = np.array(loc_conn_features)"
   ]
  },
  {
   "cell_type": "code",
   "execution_count": 17,
   "metadata": {},
   "outputs": [
    {
     "name": "stdout",
     "output_type": "stream",
     "text": [
      "The shape of connectome features matrix is  (1029, 257403)\n",
      "The shape of surface features matrix is  (1029, 360)\n",
      "The shape of thickness features matrix is  (1029, 360)\n",
      "The shape of subcortial volumes features matrix is  (1029, 66)\n",
      "The shape of local connectome features matrix is  (1029, 128894)\n",
      "The shape of target matrix for predefined domain scores is  (1029, 7)\n"
     ]
    }
   ],
   "source": [
    "print(\"The shape of connectome features matrix is \", connectome_features.shape)\n",
    "print(\"The shape of surface features matrix is \", surface_features.shape)\n",
    "print(\"The shape of thickness features matrix is \", thickness_features.shape)\n",
    "print(\"The shape of subcortial volumes features matrix is \", sub_vols_features.shape)\n",
    "print(\"The shape of local connectome features matrix is \", loc_conn_features.shape)\n",
    "print(\"The shape of target matrix for predefined domain scores is \", YY_domain_cognition.shape)"
   ]
  },
  {
   "cell_type": "code",
   "execution_count": 32,
   "metadata": {},
   "outputs": [],
   "source": [
    "#Save these to disk\n",
    "\n",
    "f =  h5py.File(opj(data_dir, \"final_data.hdf5\"), \"w\")\n",
    "\n",
    "f.create_dataset(\"connectome_features\", data=connectome_features)\n",
    "f.create_dataset(\"surface_features\", data=surface_features)\n",
    "f.create_dataset(\"thickness_features\", data=thickness_features)\n",
    "f.create_dataset(\"sub_vols_features\", data=sub_vols_features)\n",
    "f.create_dataset(\"loc_conn_features\", data=loc_conn_features)\n",
    "f.create_dataset(\"YY_domain_cognition\", data=YY_domain_cognition)\n",
    "f.create_dataset(\"subjects\", data=subjects)\n",
    "f.close()"
   ]
  }
 ],
 "metadata": {
  "kernelspec": {
   "display_name": "Python 3",
   "language": "python",
   "name": "python3"
  },
  "language_info": {
   "codemirror_mode": {
    "name": "ipython",
    "version": 3
   },
   "file_extension": ".py",
   "mimetype": "text/x-python",
   "name": "python",
   "nbconvert_exporter": "python",
   "pygments_lexer": "ipython3",
   "version": "3.7.4"
  }
 },
 "nbformat": 4,
 "nbformat_minor": 2
}
