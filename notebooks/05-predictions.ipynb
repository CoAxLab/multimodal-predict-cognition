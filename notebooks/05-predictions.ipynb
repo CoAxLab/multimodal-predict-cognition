{
 "cells": [
  {
   "cell_type": "markdown",
   "metadata": {},
   "source": [
    "In this notebook, we run the stacked predictive scenario for each cognitive score and generate the prediction accuracies, as well as the weight contributions of each single-channel to the LASSO stacked model. As explained in the manuscript, out-of-sample predictions have been achieved using a Montecarlo cross-validation with 100 random splits into training (70% of the total data) and test (30% of the total data) set. \n",
    "\n",
    "**This is the R1 version, in which we have removed the effects of intracranel volume from the response variable, added a confounder channel and generated the partitions taking into account the twins info**"
   ]
  },
  {
   "cell_type": "code",
   "execution_count": 1,
   "metadata": {},
   "outputs": [],
   "source": [
    "import numpy as np\n",
    "import pandas as pd\n",
    "import matplotlib.pylab as plt\n",
    "\n",
    "from os.path import join as opj\n",
    "import sys\n",
    "import time\n",
    "import h5py\n",
    "\n",
    "#Sklearn stuff\n",
    "from sklearn.model_selection import StratifiedShuffleSplit\n",
    "from sklearn.preprocessing import  (StandardScaler, PolynomialFeatures)\n",
    "from sklearn.linear_model import (Lasso, LassoCV, LinearRegression)\n",
    "from sklearn.decomposition import PCA\n",
    "from sklearn.feature_selection import VarianceThreshold\n",
    "from sklearn.metrics import mean_absolute_error, r2_score\n",
    "from sklearn.model_selection import GroupShuffleSplit\n",
    "\n",
    "from scipy.stats import ks_2samp"
   ]
  },
  {
   "cell_type": "code",
   "execution_count": 2,
   "metadata": {},
   "outputs": [],
   "source": [
    "# add src folder from which we can import some customed functions\n",
    "sys.path.append(\"/home/javi/Documentos/multimodal-cognition/\")\n",
    "\n",
    "# This is the stacking class\n",
    "from stacking import StackingLassoCV"
   ]
  },
  {
   "cell_type": "code",
   "execution_count": 3,
   "metadata": {},
   "outputs": [],
   "source": [
    "RANDOM_STATE = 0"
   ]
  },
  {
   "cell_type": "markdown",
   "metadata": {},
   "source": [
    "Load the data"
   ]
  },
  {
   "cell_type": "code",
   "execution_count": 4,
   "metadata": {},
   "outputs": [],
   "source": [
    "f =  h5py.File(opj(\"../data\", \"final_data_R1.hdf5\"), \"r\")\n",
    "\n",
    "# Response  data\n",
    "YY_domain_cognition =  f['YY_domain_cognition'][:]\n",
    "# Independent data\n",
    "X_conn = f['connectome_features'][:]\n",
    "X_surf = f['surface_features'][:]\n",
    "X_thic = f['thickness_features'][:]\n",
    "X_subv = f['sub_vols_features'][:]\n",
    "X_locc = f['loc_conn_features'][:]\n",
    "\n",
    "# Confounders\n",
    "X_conf = f['confounder_features'][:]\n",
    "icv_var = f['intracv_feature'][:]\n",
    "\n",
    "# Subjects ID\n",
    "subjects = f['subjects'][:]\n",
    "f.close()"
   ]
  },
  {
   "cell_type": "markdown",
   "metadata": {},
   "source": [
    "Load resctricted data and merge with our subjects"
   ]
  },
  {
   "cell_type": "code",
   "execution_count": 5,
   "metadata": {},
   "outputs": [],
   "source": [
    "restricted_dat = pd.read_csv(\"../data/RESTRICTED_frankyeh_8_2_2017_12_54_49.csv\")\n",
    "restricted_dat = pd.merge(pd.DataFrame({'Subject': subjects}), restricted_dat, on='Subject')"
   ]
  },
  {
   "cell_type": "markdown",
   "metadata": {},
   "source": [
    "create twin labels, so that they then are splitted always together"
   ]
  },
  {
   "cell_type": "code",
   "execution_count": 6,
   "metadata": {},
   "outputs": [],
   "source": [
    "twins_ixs = restricted_dat[restricted_dat.ZygosityGT!=\" \"].Family_ID.index\n",
    "notwins_ixs = restricted_dat[restricted_dat.ZygosityGT==\" \"].Family_ID.index"
   ]
  },
  {
   "cell_type": "code",
   "execution_count": 7,
   "metadata": {},
   "outputs": [
    {
     "data": {
      "text/plain": [
       "419"
      ]
     },
     "execution_count": 7,
     "metadata": {},
     "output_type": "execute_result"
    }
   ],
   "source": [
    "len(twins_ixs)"
   ]
  },
  {
   "cell_type": "code",
   "execution_count": 8,
   "metadata": {},
   "outputs": [
    {
     "data": {
      "text/plain": [
       "609"
      ]
     },
     "execution_count": 8,
     "metadata": {},
     "output_type": "execute_result"
    }
   ],
   "source": [
    "len(notwins_ixs)"
   ]
  },
  {
   "cell_type": "code",
   "execution_count": 9,
   "metadata": {},
   "outputs": [],
   "source": [
    "# The twins are labelled identically, equally to the family ID. Non twins are labelled according to the Subject ID\n",
    "from sklearn.preprocessing import LabelEncoder\n",
    "group_label = []\n",
    "for ix in restricted_dat.index:\n",
    "    if ix in twins_ixs:\n",
    "        group_label.append(restricted_dat.loc[ix, \"Family_ID\"])\n",
    "    else:\n",
    "        group_label.append(restricted_dat.loc[ix, \"Subject\"])      \n",
    "\n",
    "group_label = LabelEncoder().fit_transform(group_label)"
   ]
  },
  {
   "cell_type": "code",
   "execution_count": 10,
   "metadata": {},
   "outputs": [
    {
     "name": "stderr",
     "output_type": "stream",
     "text": [
      "/home/javi/anaconda3/lib/python3.8/site-packages/numpy/lib/arraysetops.py:580: FutureWarning: elementwise comparison failed; returning scalar instead, but in the future will perform elementwise comparison\n",
      "  mask |= (ar1 == a)\n"
     ]
    },
    {
     "data": {
      "text/plain": [
       "0"
      ]
     },
     "execution_count": 10,
     "metadata": {},
     "output_type": "execute_result"
    }
   ],
   "source": [
    "# Check that Subject IDs and Family IDs are different, so that we are not reintrod\n",
    "sum(np.in1d(restricted_dat.Subject, restricted_dat.Family_ID))"
   ]
  },
  {
   "cell_type": "code",
   "execution_count": 13,
   "metadata": {},
   "outputs": [
    {
     "name": "stdout",
     "output_type": "stream",
     "text": [
      "837\n",
      "837\n"
     ]
    }
   ],
   "source": [
    "# Number of \"independent\" subjects\n",
    "print(len(np.unique(group_label)))\n",
    "\n",
    "print(len(restricted_dat.loc[notwins_ixs, \"Subject\"].unique()) + len(restricted_dat.loc[twins_ixs, \"Family_ID\"].unique()))"
   ]
  },
  {
   "cell_type": "code",
   "execution_count": 14,
   "metadata": {},
   "outputs": [
    {
     "data": {
      "text/plain": [
       "191"
      ]
     },
     "execution_count": 14,
     "metadata": {},
     "output_type": "execute_result"
    }
   ],
   "source": [
    "# These is the number of affected observations\n",
    "sum(np.unique(group_label, return_counts=True)[1]==2)"
   ]
  },
  {
   "cell_type": "markdown",
   "metadata": {},
   "source": [
    "mask all the data to exclude this subject"
   ]
  },
  {
   "cell_type": "code",
   "execution_count": 15,
   "metadata": {},
   "outputs": [],
   "source": [
    "prepend_transformation = [VarianceThreshold(), StandardScaler(), PCA()]\n",
    "stack_lasso = StackingLassoCV(prepend_transformation=prepend_transformation, cv=5,\n",
    "                              n_jobs=1, random_state = RANDOM_STATE)"
   ]
  },
  {
   "cell_type": "code",
   "execution_count": 16,
   "metadata": {},
   "outputs": [],
   "source": [
    "score_names = ['CogTotalComp_Unadj', \n",
    "               'CogFluidComp_Unadj', \n",
    "               'CogCrystalComp_Unadj', \n",
    "               'SCPT_SEN', \n",
    "               'DDisc_AUC_200', \n",
    "               'IWRD_TOT', \n",
    "               'VSPLOT_TC']\n",
    "\n",
    "modality_names = ['CONNECTOME', \n",
    "                  'SURFACE', \n",
    "                  'THICKNESS', \n",
    "                  'SUB_VOLUMES', \n",
    "                  'LOCAL_CONN']\n",
    "n_scores = len(score_names) \n",
    "n_mods = len(modality_names)"
   ]
  },
  {
   "cell_type": "code",
   "execution_count": 17,
   "metadata": {},
   "outputs": [],
   "source": [
    "from sklearn.model_selection import KFold"
   ]
  },
  {
   "cell_type": "code",
   "execution_count": 18,
   "metadata": {},
   "outputs": [],
   "source": [
    "def regress_out(YY_train, YY_test, M_train, M_test):\n",
    "    \n",
    "    \"\"\"\n",
    "    \n",
    "    Function used to adjust data using a simple linear regression\n",
    "    \n",
    "    \"\"\"\n",
    "    \n",
    "    linReg = LinearRegression() \n",
    "    # Fit using ONLY training data\n",
    "    linReg.fit(M_train, YY_train)\n",
    "    \n",
    "    # Substract predicted values and add intercept to keep the same scale. \n",
    "    YY_train_adj = YY_train - linReg.predict(M_train) + linReg.intercept_\n",
    "    YY_test_adj = YY_test - linReg.predict(M_test) + linReg.intercept_\n",
    "    \n",
    "    return YY_train_adj, YY_test_adj"
   ]
  },
  {
   "cell_type": "code",
   "execution_count": 19,
   "metadata": {},
   "outputs": [],
   "source": [
    "def first_stage_predictions(list_X_train, list_X_test, y_train, y_test):\n",
    "    \n",
    "    \"\"\"\n",
    "    \n",
    "    Function to generate the single-channel predictions to be\n",
    "    later stacked and feed to a LASSO model\n",
    "    \n",
    "    \"\"\"\n",
    "    prepend_transformation = [VarianceThreshold(), StandardScaler(), PCA()]\n",
    "    \n",
    "    cv = KFold(n_splits=5, shuffle=True, random_state=RANDOM_STATE)\n",
    "    stack_lasso = StackingLassoCV(prepend_transformation=prepend_transformation, cv=cv,\n",
    "                                  n_jobs=1, random_state = RANDOM_STATE)\n",
    "    \n",
    "    stack_lasso.fit(list_X_train, y_train)\n",
    "\n",
    "    part_train_cv = stack_lasso.stacked_features_\n",
    "\n",
    "    y_stack_pred =  stack_lasso.predict(list_X_test)\n",
    "\n",
    "    part_test_pred = y_stack_pred\n",
    "        \n",
    "    return part_train_cv, part_test_pred"
   ]
  },
  {
   "cell_type": "code",
   "execution_count": 20,
   "metadata": {},
   "outputs": [],
   "source": [
    "def balanced(YY_train, YY_test):\n",
    "    \n",
    "    \"\"\"\n",
    "    \n",
    "    Given a partition, check whether they are balanced \n",
    "    if the ditribution of the response variables in training and test set \n",
    "    don't differ as measured by a kolmogorosv-smirnov test.\n",
    "    \n",
    "    \n",
    "    \"\"\"\n",
    "    \n",
    "    ps = np.array([ks_2samp(YY_train[:,i], YY_test[:, i])[1] for i in range(YY_train.shape[1])])\n",
    "    \n",
    "    if np.all(ps > 0.05):\n",
    "        return True\n",
    "    else:\n",
    "        return False"
   ]
  },
  {
   "cell_type": "code",
   "execution_count": 21,
   "metadata": {},
   "outputs": [],
   "source": [
    "n_subjects = X_conn.shape[0]\n",
    "n_splits = 100 # Number of random splits in the Montecarlo cross-validation\n",
    "n_train = int(0.7*X_conn.shape[0]) # Size of the training set\n",
    "n_test = X_conn.shape[0] - n_train # Size of the test set\n",
    "n_mods = len(modality_names) # Number of channels\n",
    "n_scores = len(score_names) # Number of response variables"
   ]
  },
  {
   "cell_type": "code",
   "execution_count": 22,
   "metadata": {},
   "outputs": [
    {
     "data": {
      "text/plain": [
       "1028"
      ]
     },
     "execution_count": 22,
     "metadata": {},
     "output_type": "execute_result"
    }
   ],
   "source": [
    "n_subjects"
   ]
  },
  {
   "cell_type": "code",
   "execution_count": 28,
   "metadata": {},
   "outputs": [],
   "source": [
    "# Generate list of training/test set index partitions based on twins info and check balance of target data\n",
    "\n",
    "partition_idxs = []\n",
    "# Construct single predictors classifiers\n",
    "i_split = 0\n",
    "seed = 0\n",
    "\n",
    "while i_split < n_splits:\n",
    "    \n",
    "    # Generate partition\n",
    "    gss = GroupShuffleSplit(n_splits=1, train_size=0.7, random_state=seed)\n",
    "    train_index, test_index = list(gss.split(np.zeros(n_subjects), y=None, groups=group_label))[0]\n",
    "    \n",
    "    # Create training and test partitions\n",
    "    YY_train = YY_domain_cognition[train_index]\n",
    "    YY_test = YY_domain_cognition[test_index]\n",
    "    \n",
    "    # If training and test are not balanced in all cognitive scores, generate a new partition\n",
    "    if balanced(YY_train, YY_test) is False:\n",
    "        seed = seed + 1\n",
    "        continue\n",
    "    \n",
    "    partition_idxs.append((train_index, test_index))\n",
    "    #print(\"split %d finished\\n\" % i_split)\n",
    "    i_split = i_split + 1\n",
    "    seed = seed + 1"
   ]
  },
  {
   "cell_type": "code",
   "execution_count": 31,
   "metadata": {},
   "outputs": [
    {
     "data": {
      "text/plain": [
       "134"
      ]
     },
     "execution_count": 31,
     "metadata": {},
     "output_type": "execute_result"
    }
   ],
   "source": [
    "seed"
   ]
  },
  {
   "cell_type": "code",
   "execution_count": 20,
   "metadata": {},
   "outputs": [
    {
     "name": "stdout",
     "output_type": "stream",
     "text": [
      "number of partitions with no statistical differences between training and test for var CogTotalComp_Unadj = 100\n",
      "number of partitions with no statistical differences between training and test for var CogFluidComp_Unadj = 100\n",
      "number of partitions with no statistical differences between training and test for var CogCrystalComp_Unadj = 100\n",
      "number of partitions with no statistical differences between training and test for var SCPT_SEN = 100\n",
      "number of partitions with no statistical differences between training and test for var DDisc_AUC_200 = 100\n",
      "number of partitions with no statistical differences between training and test for var IWRD_TOT = 100\n",
      "number of partitions with no statistical differences between training and test for var VSPLOT_TC = 100\n"
     ]
    }
   ],
   "source": [
    "for ii in range(n_scores):\n",
    "    ps = []\n",
    "    for train_index, test_index in partition_idxs:\n",
    "        d,p = ks_2samp(YY_domain_cognition[train_index][:,ii], YY_domain_cognition[test_index][:,ii])\n",
    "\n",
    "        ps.append(p)\n",
    "    \n",
    "    print(\"number of partitions with NO statistical differences between training and test for var %s = %i\" % (score_names[ii], sum(np.array(ps)>0.05)))"
   ]
  },
  {
   "cell_type": "code",
   "execution_count": 30,
   "metadata": {},
   "outputs": [
    {
     "data": {
      "text/plain": [
       "<matplotlib.collections.LineCollection at 0x7f3b6f6e1460>"
      ]
     },
     "execution_count": 30,
     "metadata": {},
     "output_type": "execute_result"
    },
    {
     "data": {
      "image/png": "[encoded data removed]",
      "text/plain": [
       "<Figure size 432x288 with 1 Axes>"
      ]
     },
     "metadata": {
      "needs_background": "light"
     },
     "output_type": "display_data"
    }
   ],
   "source": [
    "# The size of the partitions sligntly varies around 720 (~ 70% of the total observations) because for\n",
    "# this kind of CV generator takes into account he imbalance in the data regarding the third-party tgroup \n",
    "# (in our case the twins info). See also https://scikit-learn.org/stable/modules/cross_validation.html#cross-validation\n",
    "plt.plot([len(train_index) for train_index,_ in partition_idxs])\n",
    "plt.hlines(xmin=0, xmax=100, y=0.7*n_subjects)"
   ]
  },
  {
   "cell_type": "code",
   "execution_count": 272,
   "metadata": {},
   "outputs": [
    {
     "name": "stdout",
     "output_type": "stream",
     "text": [
      "set()\n",
      "set()\n",
      "set()\n",
      "set()\n",
      "set()\n",
      "set()\n",
      "set()\n",
      "set()\n",
      "set()\n",
      "set()\n",
      "set()\n",
      "set()\n",
      "set()\n",
      "set()\n",
      "set()\n",
      "set()\n",
      "set()\n",
      "set()\n",
      "set()\n",
      "set()\n",
      "set()\n",
      "set()\n",
      "set()\n",
      "set()\n",
      "set()\n",
      "set()\n",
      "set()\n",
      "set()\n",
      "set()\n",
      "set()\n",
      "set()\n",
      "set()\n",
      "set()\n",
      "set()\n",
      "set()\n",
      "set()\n",
      "set()\n",
      "set()\n",
      "set()\n",
      "set()\n",
      "set()\n",
      "set()\n",
      "set()\n",
      "set()\n",
      "set()\n",
      "set()\n",
      "set()\n",
      "set()\n",
      "set()\n",
      "set()\n",
      "set()\n",
      "set()\n",
      "set()\n",
      "set()\n",
      "set()\n",
      "set()\n",
      "set()\n",
      "set()\n",
      "set()\n",
      "set()\n",
      "set()\n",
      "set()\n",
      "set()\n",
      "set()\n",
      "set()\n",
      "set()\n",
      "set()\n",
      "set()\n",
      "set()\n",
      "set()\n",
      "set()\n",
      "set()\n",
      "set()\n",
      "set()\n",
      "set()\n",
      "set()\n",
      "set()\n",
      "set()\n",
      "set()\n",
      "set()\n",
      "set()\n",
      "set()\n",
      "set()\n",
      "set()\n",
      "set()\n",
      "set()\n",
      "set()\n",
      "set()\n",
      "set()\n",
      "set()\n",
      "set()\n",
      "set()\n",
      "set()\n",
      "set()\n",
      "set()\n",
      "set()\n",
      "set()\n",
      "set()\n",
      "set()\n",
      "set()\n"
     ]
    }
   ],
   "source": [
    "# Check that a family member is either in the training or the test set, but not in both\n",
    "for i_fold, (train_index, test_index) in enumerate(partition_idxs):\n",
    "    print(set(list(group_label[train_index])) & set(list(group_label[test_index])))"
   ]
  },
  {
   "cell_type": "code",
   "execution_count": 36,
   "metadata": {},
   "outputs": [
    {
     "name": "stdout",
     "output_type": "stream",
     "text": [
      "FOLD 1: twin members in training set also in test set? False , twin member in test set also in training set? False\n",
      "FOLD 2: twin members in training set also in test set? False , twin member in test set also in training set? False\n",
      "FOLD 3: twin members in training set also in test set? False , twin member in test set also in training set? False\n",
      "FOLD 4: twin members in training set also in test set? False , twin member in test set also in training set? False\n",
      "FOLD 5: twin members in training set also in test set? False , twin member in test set also in training set? False\n",
      "FOLD 6: twin members in training set also in test set? False , twin member in test set also in training set? False\n",
      "FOLD 7: twin members in training set also in test set? False , twin member in test set also in training set? False\n",
      "FOLD 8: twin members in training set also in test set? False , twin member in test set also in training set? False\n",
      "FOLD 9: twin members in training set also in test set? False , twin member in test set also in training set? False\n",
      "FOLD 10: twin members in training set also in test set? False , twin member in test set also in training set? False\n",
      "FOLD 11: twin members in training set also in test set? False , twin member in test set also in training set? False\n",
      "FOLD 12: twin members in training set also in test set? False , twin member in test set also in training set? False\n",
      "FOLD 13: twin members in training set also in test set? False , twin member in test set also in training set? False\n",
      "FOLD 14: twin members in training set also in test set? False , twin member in test set also in training set? False\n",
      "FOLD 15: twin members in training set also in test set? False , twin member in test set also in training set? False\n",
      "FOLD 16: twin members in training set also in test set? False , twin member in test set also in training set? False\n",
      "FOLD 17: twin members in training set also in test set? False , twin member in test set also in training set? False\n",
      "FOLD 18: twin members in training set also in test set? False , twin member in test set also in training set? False\n",
      "FOLD 19: twin members in training set also in test set? False , twin member in test set also in training set? False\n",
      "FOLD 20: twin members in training set also in test set? False , twin member in test set also in training set? False\n",
      "FOLD 21: twin members in training set also in test set? False , twin member in test set also in training set? False\n",
      "FOLD 22: twin members in training set also in test set? False , twin member in test set also in training set? False\n",
      "FOLD 23: twin members in training set also in test set? False , twin member in test set also in training set? False\n",
      "FOLD 24: twin members in training set also in test set? False , twin member in test set also in training set? False\n",
      "FOLD 25: twin members in training set also in test set? False , twin member in test set also in training set? False\n",
      "FOLD 26: twin members in training set also in test set? False , twin member in test set also in training set? False\n",
      "FOLD 27: twin members in training set also in test set? False , twin member in test set also in training set? False\n",
      "FOLD 28: twin members in training set also in test set? False , twin member in test set also in training set? False\n",
      "FOLD 29: twin members in training set also in test set? False , twin member in test set also in training set? False\n",
      "FOLD 30: twin members in training set also in test set? False , twin member in test set also in training set? False\n",
      "FOLD 31: twin members in training set also in test set? False , twin member in test set also in training set? False\n",
      "FOLD 32: twin members in training set also in test set? False , twin member in test set also in training set? False\n",
      "FOLD 33: twin members in training set also in test set? False , twin member in test set also in training set? False\n",
      "FOLD 34: twin members in training set also in test set? False , twin member in test set also in training set? False\n",
      "FOLD 35: twin members in training set also in test set? False , twin member in test set also in training set? False\n",
      "FOLD 36: twin members in training set also in test set? False , twin member in test set also in training set? False\n",
      "FOLD 37: twin members in training set also in test set? False , twin member in test set also in training set? False\n",
      "FOLD 38: twin members in training set also in test set? False , twin member in test set also in training set? False\n",
      "FOLD 39: twin members in training set also in test set? False , twin member in test set also in training set? False\n",
      "FOLD 40: twin members in training set also in test set? False , twin member in test set also in training set? False\n",
      "FOLD 41: twin members in training set also in test set? False , twin member in test set also in training set? False\n",
      "FOLD 42: twin members in training set also in test set? False , twin member in test set also in training set? False\n",
      "FOLD 43: twin members in training set also in test set? False , twin member in test set also in training set? False\n",
      "FOLD 44: twin members in training set also in test set? False , twin member in test set also in training set? False\n",
      "FOLD 45: twin members in training set also in test set? False , twin member in test set also in training set? False\n",
      "FOLD 46: twin members in training set also in test set? False , twin member in test set also in training set? False\n",
      "FOLD 47: twin members in training set also in test set? False , twin member in test set also in training set? False\n",
      "FOLD 48: twin members in training set also in test set? False , twin member in test set also in training set? False\n",
      "FOLD 49: twin members in training set also in test set? False , twin member in test set also in training set? False\n",
      "FOLD 50: twin members in training set also in test set? False , twin member in test set also in training set? False\n",
      "FOLD 51: twin members in training set also in test set? False , twin member in test set also in training set? False\n",
      "FOLD 52: twin members in training set also in test set? False , twin member in test set also in training set? False\n",
      "FOLD 53: twin members in training set also in test set? False , twin member in test set also in training set? False\n",
      "FOLD 54: twin members in training set also in test set? False , twin member in test set also in training set? False\n",
      "FOLD 55: twin members in training set also in test set? False , twin member in test set also in training set? False\n",
      "FOLD 56: twin members in training set also in test set? False , twin member in test set also in training set? False\n",
      "FOLD 57: twin members in training set also in test set? False , twin member in test set also in training set? False\n",
      "FOLD 58: twin members in training set also in test set? False , twin member in test set also in training set? False\n",
      "FOLD 59: twin members in training set also in test set? False , twin member in test set also in training set? False\n",
      "FOLD 60: twin members in training set also in test set? False , twin member in test set also in training set? False\n",
      "FOLD 61: twin members in training set also in test set? False , twin member in test set also in training set? False\n",
      "FOLD 62: twin members in training set also in test set? False , twin member in test set also in training set? False\n",
      "FOLD 63: twin members in training set also in test set? False , twin member in test set also in training set? False\n",
      "FOLD 64: twin members in training set also in test set? False , twin member in test set also in training set? False\n",
      "FOLD 65: twin members in training set also in test set? False , twin member in test set also in training set? False\n",
      "FOLD 66: twin members in training set also in test set? False , twin member in test set also in training set? False\n",
      "FOLD 67: twin members in training set also in test set? False , twin member in test set also in training set? False\n",
      "FOLD 68: twin members in training set also in test set? False , twin member in test set also in training set? False\n",
      "FOLD 69: twin members in training set also in test set? False , twin member in test set also in training set? False\n",
      "FOLD 70: twin members in training set also in test set? False , twin member in test set also in training set? False\n",
      "FOLD 71: twin members in training set also in test set? False , twin member in test set also in training set? False\n",
      "FOLD 72: twin members in training set also in test set? False , twin member in test set also in training set? False\n",
      "FOLD 73: twin members in training set also in test set? False , twin member in test set also in training set? False\n",
      "FOLD 74: twin members in training set also in test set? False , twin member in test set also in training set? False\n",
      "FOLD 75: twin members in training set also in test set? False , twin member in test set also in training set? False\n",
      "FOLD 76: twin members in training set also in test set? False , twin member in test set also in training set? False\n",
      "FOLD 77: twin members in training set also in test set? False , twin member in test set also in training set? False\n",
      "FOLD 78: twin members in training set also in test set? False , twin member in test set also in training set? False\n",
      "FOLD 79: twin members in training set also in test set? False , twin member in test set also in training set? False\n",
      "FOLD 80: twin members in training set also in test set? False , twin member in test set also in training set? False\n",
      "FOLD 81: twin members in training set also in test set? False , twin member in test set also in training set? False\n",
      "FOLD 82: twin members in training set also in test set? False , twin member in test set also in training set? False\n",
      "FOLD 83: twin members in training set also in test set? False , twin member in test set also in training set? False\n",
      "FOLD 84: twin members in training set also in test set? False , twin member in test set also in training set? False\n",
      "FOLD 85: twin members in training set also in test set? False , twin member in test set also in training set? False\n",
      "FOLD 86: twin members in training set also in test set? False , twin member in test set also in training set? False\n",
      "FOLD 87: twin members in training set also in test set? False , twin member in test set also in training set? False\n",
      "FOLD 88: twin members in training set also in test set? False , twin member in test set also in training set? False\n",
      "FOLD 89: twin members in training set also in test set? False , twin member in test set also in training set? False\n",
      "FOLD 90: twin members in training set also in test set? False , twin member in test set also in training set? False\n",
      "FOLD 91: twin members in training set also in test set? False , twin member in test set also in training set? False\n",
      "FOLD 92: twin members in training set also in test set? False , twin member in test set also in training set? False\n",
      "FOLD 93: twin members in training set also in test set? False , twin member in test set also in training set? False\n",
      "FOLD 94: twin members in training set also in test set? False , twin member in test set also in training set? False\n",
      "FOLD 95: twin members in training set also in test set? False , twin member in test set also in training set? False\n",
      "FOLD 96: twin members in training set also in test set? False , twin member in test set also in training set? False\n",
      "FOLD 97: twin members in training set also in test set? False , twin member in test set also in training set? False\n",
      "FOLD 98: twin members in training set also in test set? False , twin member in test set also in training set? False\n",
      "FOLD 99: twin members in training set also in test set? False , twin member in test set also in training set? False\n",
      "FOLD 100: twin members in training set also in test set? False , twin member in test set also in training set? False\n"
     ]
    }
   ],
   "source": [
    "# Check that a family member is either in the training or the test set, but not in both\n",
    "for i_fold, (train_index, test_index) in enumerate(partition_idxs):\n",
    "    print(\"FOLD %d: twin members in training set also in test set?\"% (i_fold +1),\n",
    "          np.any(np.in1d(group_label[train_index], group_label[test_index])), \",\",\n",
    "          \"twin member in test set also in training set?\", \n",
    "          np.any(np.in1d(group_label[test_index], group_label[train_index])) \n",
    "         )"
   ]
  },
  {
   "cell_type": "code",
   "execution_count": 37,
   "metadata": {},
   "outputs": [],
   "source": [
    "proportion_family = {}\n",
    "for family_id in np.unique(group_label):\n",
    "    in_test = 0\n",
    "    for _, test_index in partition_idxs:\n",
    "        if family_id in group_label[test_index]:\n",
    "            in_test +=1\n",
    "            \n",
    "    proportion_family[family_id] = (100-in_test)/100"
   ]
  },
  {
   "cell_type": "code",
   "execution_count": 36,
   "metadata": {},
   "outputs": [
    {
     "name": "stdout",
     "output_type": "stream",
     "text": [
      "0.52\n",
      "0.83\n"
     ]
    }
   ],
   "source": [
    "# We can see that as minimum, one family is always in more of the folds in the training set\n",
    "print(np.min(list(proportion_family.values())))\n",
    "print(np.max(list(proportion_family.values())))"
   ]
  },
  {
   "cell_type": "markdown",
   "metadata": {},
   "source": [
    "Store these partitions"
   ]
  },
  {
   "cell_type": "code",
   "execution_count": 37,
   "metadata": {},
   "outputs": [],
   "source": [
    "with h5py.File(opj('../results', 'training_idxs_twinwise.hdf5'), 'a') as f_training_idxs:\n",
    "    for i_fold, (train_index, _) in enumerate(partition_idxs):\n",
    "        f_training_idxs.create_dataset('fold_%d' % (i_fold +1), \n",
    "                                       data = np.array(train_index))\n",
    "        \n",
    "with h5py.File(opj('../results', 'testing_idxs_twinwise.hdf5'), 'a') as f_test_idxs:\n",
    "    for i_fold, (_, test_index) in enumerate(partition_idxs):\n",
    "        f_test_idxs.create_dataset('fold_%d' % (i_fold +1), \n",
    "                                    data = np.array(test_index))"
   ]
  },
  {
   "cell_type": "code",
   "execution_count": null,
   "metadata": {},
   "outputs": [
    {
     "name": "stdout",
     "output_type": "stream",
     "text": [
      "split 0 finished\n",
      "split 1 finished\n"
     ]
    }
   ],
   "source": [
    "# Construct single predictors classifiers\n",
    "i_split = 0\n",
    "seed = 0\n",
    "\n",
    "single_r2_scores = np.zeros((n_splits, n_scores, n_mods +1)) # +1 to account for the confounders channel\n",
    "\n",
    "neuro_comb_r2_scores = np.zeros((n_splits, n_scores))\n",
    "comb_neuro_weights = np.zeros((n_splits, n_scores, n_mods)) \n",
    "\n",
    "comb_r2_scores = np.zeros((n_splits, n_scores))\n",
    "comb_weights = np.zeros((n_splits, n_scores, n_mods + 1)) # +1 to account for the confounders channel\n",
    "\n",
    "#Create empty dictionary for the predictions\n",
    "preds_dict = {}\n",
    "for score in score_names:\n",
    "    preds_dict[score] = []\n",
    "    \n",
    "#compute starting execution time\n",
    "start = time.time()    \n",
    "for train_index, test_index in partition_idxs:\n",
    "\n",
    "    YY_train = YY_domain_cognition[train_index]\n",
    "    YY_test = YY_domain_cognition[test_index]\n",
    "    \n",
    "    # Regress out ICV from target variable\n",
    "    YY_train_adj, YY_test_adj = regress_out(YY_train, \n",
    "                                            YY_test, \n",
    "                                            icv_var[train_index][:, np.newaxis], \n",
    "                                            icv_var[test_index][:, np.newaxis])\n",
    "            \n",
    "    for jj, score in enumerate(score_names):\n",
    "            \n",
    "        y_train = YY_train_adj[:, jj]\n",
    "        y_test = YY_test_adj[:, jj]\n",
    "        \n",
    "        # Compute single predictions\n",
    "        X_train_2, X_test_2 = first_stage_predictions([X_conn[train_index], \n",
    "                                                       X_surf[train_index], \n",
    "                                                       X_thic[train_index], \n",
    "                                                       X_subv[train_index], \n",
    "                                                       X_locc[train_index],\n",
    "                                                       X_conf[train_index]], \n",
    "                                                      [X_conn[test_index], \n",
    "                                                       X_surf[test_index], \n",
    "                                                       X_thic[test_index], \n",
    "                                                       X_subv[test_index], \n",
    "                                                       X_locc[test_index],\n",
    "                                                       X_conf[test_index]], y_train, y_test)     \n",
    "        \n",
    "        # Store single channel r2\n",
    "        single_r2_scores[i_split, jj,:] = np.array([r2_score(y_test, X_test_2[:, kk]) \\\n",
    "                                                    for kk in range(n_mods + 1)]) # +1 to account for the confounders channel\n",
    "        \n",
    "        # Define Lasso second classifier (Require non-negativity of the weights)\n",
    "        clf_2 = LassoCV(cv=5, random_state=RANDOM_STATE, positive=True)\n",
    "        \n",
    "        ### Find score of combining only neuroimaging measures ####\n",
    "    \n",
    "        # Fit on the stacked predictions\n",
    "        clf_2.fit(X_train_2[:,:n_mods], y_train)\n",
    "        \n",
    "        # predict on the stacked predictions\n",
    "        y_pred_neuro_comb = clf_2.predict(X_test_2[:,:n_mods])\n",
    "        \n",
    "        # Compute and store r2 for stacked predictions\n",
    "        neuro_comb_r2_scores[i_split, jj] = r2_score(y_test, y_pred_neuro_comb)\n",
    "        \n",
    "        # Store the weights for each single prediction\n",
    "        comb_neuro_weights[i_split, jj, :] = clf_2.coef_\n",
    "\n",
    "        ### Find score of combining all neuroimaging measures ####\n",
    "        \n",
    "        # Fit on the stacked predictions\n",
    "        clf_2.fit(X_train_2, y_train)\n",
    "        \n",
    "        # predict on the stacked predictions\n",
    "        y_pred_comb = clf_2.predict(X_test_2)\n",
    "        \n",
    "        # Compute and store r2 for stacked predictions\n",
    "        r2_comb = r2_score(y_test, y_pred_comb)\n",
    "        comb_r2_scores[i_split, jj] = r2_comb\n",
    "        \n",
    "        # Store the weights for each single prediction\n",
    "        comb_weights[i_split, jj, :] = clf_2.coef_\n",
    "        \n",
    "        #Create dataframe with the predictions\n",
    "        preds_df = pd.DataFrame({'y_pred_conn': X_test_2[:, 0],\n",
    "                                 'y_pred_surf': X_test_2[:, 1],\n",
    "                                 'y_pred_thic': X_test_2[:, 2],\n",
    "                                 'y_pred_subv': X_test_2[:, 3],\n",
    "                                 'y_pred_locc': X_test_2[:, 4],\n",
    "                                 'y_pred_conf': X_test_2[:, 5],\n",
    "                                 'y_pred_neuro_comb': y_pred_neuro_comb,\n",
    "                                 'y_pred_comb': y_pred_comb,\n",
    "                                 'y_test': y_test}\n",
    "                    )\n",
    "        \n",
    "        # Store this\n",
    "        preds_dict[score].append(preds_df)\n",
    "    \n",
    "    print(\"split %d finished\" % i_split)\n",
    "    i_split = i_split + 1\n",
    "\n",
    "# compute final execution time and elapsed time\n",
    "done = time.time()\n",
    "elapsed_time = done - start"
   ]
  },
  {
   "cell_type": "markdown",
   "metadata": {},
   "source": [
    "Store these results and predictions into hdf5 files"
   ]
  },
  {
   "cell_type": "code",
   "execution_count": 71,
   "metadata": {},
   "outputs": [],
   "source": [
    "with h5py.File(opj('../results', 'predictions_w_conf_hybrid_twins_R1.hdf5'), 'a') as f_preds:\n",
    "    \n",
    "    # Save predictions in each fold creating a 3D array where the first dimensions are the response variables,\n",
    "    # the second dimension the observation and the third dimension the type of prediction\n",
    "    for ii in range(n_splits):\n",
    "        f_preds.create_dataset(\"fold_%d\" % (ii+1), \n",
    "                               data = np.array([preds_dict[key][ii].to_numpy() for key in preds_dict.keys()])\n",
    "                              )\n",
    "        "
   ]
  },
  {
   "cell_type": "code",
   "execution_count": 47,
   "metadata": {},
   "outputs": [],
   "source": [
    "f_res = h5py.File(opj('../results', 'scores_w_conf_hybrid_twins_R1.hdf5'), 'a')\n",
    "f_res.create_dataset('comb_2_scores', data=comb_r2_scores)\n",
    "f_res.create_dataset('neuro_comb_r2_scores', data=neuro_comb_r2_scores)\n",
    "f_res.create_dataset('single_r2_scores', data=single_r2_scores)\n",
    "f_res.create_dataset('comb_neuro_weights', data = comb_neuro_weights)\n",
    "f_res.create_dataset('comb_weights', data = comb_weights)\n",
    "f_res.close()"
   ]
  },
  {
   "cell_type": "markdown",
   "metadata": {},
   "source": [
    "# RESPONSE TO REFEREE 1: Consider other factors for impulsivity and short penn\n",
    "\n",
    "We here looked at one of the referees' suggestions of exploring other response variables, especially for the cases in which the effect sizes were small, as the variables that we used at first were maybe not that suitable for prediction. We tried the following:\n",
    "\n",
    "- SCPT_TPRT = Short Penn CPT Median Response Time for True Positive Responses (Sustained attention)\n",
    "- NEOFAC_E = NEO-FFI Extraversion Five Factor Model (NEO-FFI) Factor Summary Scores (Proxy for Impulsivity)\n",
    "\n",
    "The latter variable was explicity suggested by the reviewer. We also considered the first one since in our original simulations, the distribution for the response variable used for sustained attention, Short Penn CPT sensitivity, had a large kurtosis and besides, the prediction accuracies were neglible. "
   ]
  },
  {
   "cell_type": "code",
   "execution_count": 11,
   "metadata": {},
   "outputs": [],
   "source": [
    "import os\n",
    "\n",
    "misc_dir = \"../results/misc\"\n",
    "\n",
    "if os.path.exists(misc_dir) is False:\n",
    "    os.mkdir(misc_dir)"
   ]
  },
  {
   "cell_type": "code",
   "execution_count": 12,
   "metadata": {},
   "outputs": [],
   "source": [
    "new_vars = [\"SCPT_TPRT\",\"NEOFAC_E\"]"
   ]
  },
  {
   "cell_type": "code",
   "execution_count": 13,
   "metadata": {},
   "outputs": [
    {
     "data": {
      "text/plain": [
       "['SCPT_TPRT', 'NEOFAC_E']"
      ]
     },
     "execution_count": 13,
     "metadata": {},
     "output_type": "execute_result"
    }
   ],
   "source": [
    "new_vars"
   ]
  },
  {
   "cell_type": "code",
   "execution_count": 14,
   "metadata": {},
   "outputs": [],
   "source": [
    "unrestricted_dat = pd.read_excel(\"../data/unrestricted_jraserod_8_16_2019_12_4_12.xlsx\")\n",
    "\n",
    "new_Y = pd.merge(unrestricted_dat, pd.DataFrame({\"Subject\":subjects}), on=\"Subject\").loc[:, new_vars].values"
   ]
  },
  {
   "cell_type": "code",
   "execution_count": 20,
   "metadata": {},
   "outputs": [
    {
     "data": {
      "image/png": "[encoded data removed]",
      "text/plain": [
       "<Figure size 540x324 with 2 Axes>"
      ]
     },
     "metadata": {
      "needs_background": "light"
     },
     "output_type": "display_data"
    }
   ],
   "source": [
    "# We can see that the distribution for these new two variables look good enough\n",
    "import matplotlib.pylab as plt\n",
    "\n",
    "\n",
    "fig, axs = plt.subplots(ncols=2, figsize=(7.5, 4.5))\n",
    "axs[0].hist(new_Y[:, 0])\n",
    "axs[0].set_title(\"Short Penn CPT Median Response Time \\n for True Positive Responses\", size=13)\n",
    "axs[0].tick_params(labelsize=12)\n",
    "axs[1].hist(new_Y[:, 1])\n",
    "axs[1].set_title(\"NEO-Five Factor Model (NEO-FFI) \\n for Extraversion\", size=13)\n",
    "axs[1].tick_params(labelsize=12)\n",
    "plt.tight_layout()\n",
    "plt.savefig(opj(misc_dir, \"new_response_vars_distributions.png\"), dpi=300)\n",
    "plt.savefig(opj(misc_dir, \"new_response_vars_distributions.svg\"), dpi=300)"
   ]
  },
  {
   "cell_type": "markdown",
   "metadata": {},
   "source": [
    "We are using the original training/test partitions, which guaranted that no statistical differences between the training and test set existed in the  response variables. Here it does not need to be true"
   ]
  },
  {
   "cell_type": "code",
   "execution_count": 39,
   "metadata": {},
   "outputs": [
    {
     "name": "stdout",
     "output_type": "stream",
     "text": [
      "number of partitions with no statistical differences between training and test for var SCPT_TPRT = 92\n",
      "number of partitions with no statistical differences between training and test for var NEOFAC_E = 97\n"
     ]
    }
   ],
   "source": [
    "for ii in range(2):\n",
    "    ps = []\n",
    "    for train_index, test_index in partition_idxs:\n",
    "        d,p = ks_2samp(new_Y[train_index][:,ii], new_Y[test_index][:,ii])\n",
    "\n",
    "        ps.append(p)\n",
    "    \n",
    "    print(\"number of partitions with no statistical differences between training and test for var %s = %i\" % (new_vars[ii], sum(np.array(ps)>0.05)))"
   ]
  },
  {
   "cell_type": "markdown",
   "metadata": {},
   "source": [
    "Ok, so most of them are balanced. No need to further correct for this, especially after being using the median as the summary performance metric"
   ]
  },
  {
   "cell_type": "code",
   "execution_count": 40,
   "metadata": {},
   "outputs": [
    {
     "name": "stdout",
     "output_type": "stream",
     "text": [
      "split 0 finished\n",
      "split 1 finished\n",
      "split 2 finished\n",
      "split 3 finished\n",
      "split 4 finished\n",
      "split 5 finished\n",
      "split 6 finished\n",
      "split 7 finished\n",
      "split 8 finished\n",
      "split 9 finished\n",
      "split 10 finished\n",
      "split 11 finished\n",
      "split 12 finished\n",
      "split 13 finished\n",
      "split 14 finished\n",
      "split 15 finished\n",
      "split 16 finished\n",
      "split 17 finished\n",
      "split 18 finished\n",
      "split 19 finished\n",
      "split 20 finished\n",
      "split 21 finished\n",
      "split 22 finished\n",
      "split 23 finished\n",
      "split 24 finished\n",
      "split 25 finished\n",
      "split 26 finished\n",
      "split 27 finished\n",
      "split 28 finished\n",
      "split 29 finished\n",
      "split 30 finished\n",
      "split 31 finished\n",
      "split 32 finished\n",
      "split 33 finished\n",
      "split 34 finished\n",
      "split 35 finished\n",
      "split 36 finished\n",
      "split 37 finished\n",
      "split 38 finished\n",
      "split 39 finished\n",
      "split 40 finished\n",
      "split 41 finished\n",
      "split 42 finished\n",
      "split 43 finished\n",
      "split 44 finished\n",
      "split 45 finished\n",
      "split 46 finished\n",
      "split 47 finished\n",
      "split 48 finished\n",
      "split 49 finished\n",
      "split 50 finished\n",
      "split 51 finished\n",
      "split 52 finished\n",
      "split 53 finished\n",
      "split 54 finished\n",
      "split 55 finished\n",
      "split 56 finished\n",
      "split 57 finished\n",
      "split 58 finished\n",
      "split 59 finished\n",
      "split 60 finished\n",
      "split 61 finished\n",
      "split 62 finished\n",
      "split 63 finished\n",
      "split 64 finished\n",
      "split 65 finished\n",
      "split 66 finished\n",
      "split 67 finished\n",
      "split 68 finished\n",
      "split 69 finished\n",
      "split 70 finished\n",
      "split 71 finished\n",
      "split 72 finished\n",
      "split 73 finished\n",
      "split 74 finished\n",
      "split 75 finished\n",
      "split 76 finished\n",
      "split 77 finished\n",
      "split 78 finished\n",
      "split 79 finished\n",
      "split 80 finished\n",
      "split 81 finished\n",
      "split 82 finished\n",
      "split 83 finished\n",
      "split 84 finished\n",
      "split 85 finished\n",
      "split 86 finished\n",
      "split 87 finished\n",
      "split 88 finished\n",
      "split 89 finished\n",
      "split 90 finished\n",
      "split 91 finished\n",
      "split 92 finished\n",
      "split 93 finished\n",
      "split 94 finished\n",
      "split 95 finished\n",
      "split 96 finished\n",
      "split 97 finished\n",
      "split 98 finished\n",
      "split 99 finished\n"
     ]
    }
   ],
   "source": [
    "# Construct single predictors classifiers\n",
    "i_split = 0\n",
    "seed = 0\n",
    "\n",
    "new_single_r2_scores = np.zeros((n_splits, new_Y.shape[1], n_mods +1)) # +1 to account for the confounders channel\n",
    "\n",
    "new_neuro_comb_r2_scores = np.zeros((n_splits, new_Y.shape[1]))\n",
    "new_comb_neuro_weights = np.zeros((n_splits, new_Y.shape[1], n_mods)) \n",
    "\n",
    "new_comb_r2_scores = np.zeros((n_splits, new_Y.shape[1]))\n",
    "new_comb_weights = np.zeros((n_splits, new_Y.shape[1], n_mods + 1)) # +1 to account for the confounders channel\n",
    "\n",
    "#Create empty dictionary for the predictions\n",
    "new_preds_dict = {}\n",
    "for score in new_vars:\n",
    "    new_preds_dict[score] = []\n",
    "    \n",
    "#compute starting execution time\n",
    "start = time.time()    \n",
    "for train_index, test_index in partition_idxs:\n",
    "\n",
    "    YY_train = new_Y[train_index]\n",
    "    YY_test = new_Y[test_index]\n",
    "    \n",
    "    # Regress out ICV from target variable\n",
    "    YY_train_adj, YY_test_adj = regress_out(YY_train, \n",
    "                                            YY_test, \n",
    "                                            icv_var[train_index][:, np.newaxis], \n",
    "                                            icv_var[test_index][:, np.newaxis])\n",
    "            \n",
    "    for jj, score in enumerate(new_vars):\n",
    "            \n",
    "        y_train = YY_train_adj[:, jj]\n",
    "        y_test = YY_test_adj[:, jj]\n",
    "        \n",
    "        # Compute single predictions\n",
    "        X_train_2, X_test_2 = first_stage_predictions([X_conn[train_index], \n",
    "                                                       X_surf[train_index], \n",
    "                                                       X_thic[train_index], \n",
    "                                                       X_subv[train_index], \n",
    "                                                       X_locc[train_index],\n",
    "                                                       X_conf[train_index]], \n",
    "                                                      [X_conn[test_index], \n",
    "                                                       X_surf[test_index], \n",
    "                                                       X_thic[test_index], \n",
    "                                                       X_subv[test_index], \n",
    "                                                       X_locc[test_index],\n",
    "                                                       X_conf[test_index]], y_train, y_test)     \n",
    "        \n",
    "        # Store single channel r2\n",
    "        new_single_r2_scores[i_split, jj,:] = np.array([r2_score(y_test, X_test_2[:, kk]) \\\n",
    "                                                    for kk in range(n_mods + 1)]) # +1 to account for the confounders channel\n",
    "        \n",
    "        # Define Lasso second classifier (Require non-negativity of the weights)\n",
    "        clf_2 = LassoCV(cv=5, random_state=RANDOM_STATE, positive=True)\n",
    "        \n",
    "        ### Find score of combining only neuroimaging measures ####\n",
    "    \n",
    "        # Fit on the stacked predictions\n",
    "        clf_2.fit(X_train_2[:,:n_mods], y_train)\n",
    "        \n",
    "        # predict on the stacked predictions\n",
    "        y_pred_neuro_comb = clf_2.predict(X_test_2[:,:n_mods])\n",
    "        \n",
    "        # Compute and store r2 for stacked predictions\n",
    "        new_neuro_comb_r2_scores[i_split, jj] = r2_score(y_test, y_pred_neuro_comb)\n",
    "        \n",
    "        # Store the weights for each single prediction\n",
    "        new_comb_neuro_weights[i_split, jj, :] = clf_2.coef_\n",
    "\n",
    "        ### Find score of combining all neuroimaging measures ####\n",
    "        \n",
    "        # Fit on the stacked predictions\n",
    "        clf_2.fit(X_train_2, y_train)\n",
    "        \n",
    "        # predict on the stacked predictions\n",
    "        y_pred_comb = clf_2.predict(X_test_2)\n",
    "        \n",
    "        # Compute and store r2 for stacked predictions\n",
    "        r2_comb = r2_score(y_test, y_pred_comb)\n",
    "        new_comb_r2_scores[i_split, jj] = r2_comb\n",
    "        \n",
    "        # Store the weights for each single prediction\n",
    "        new_comb_weights[i_split, jj, :] = clf_2.coef_\n",
    "        \n",
    "        #Create dataframe with the predictions\n",
    "        preds_df = pd.DataFrame({'y_pred_conn': X_test_2[:, 0],\n",
    "                                 'y_pred_surf': X_test_2[:, 1],\n",
    "                                 'y_pred_thic': X_test_2[:, 2],\n",
    "                                 'y_pred_subv': X_test_2[:, 3],\n",
    "                                 'y_pred_locc': X_test_2[:, 4],\n",
    "                                 'y_pred_conf': X_test_2[:, 5],\n",
    "                                 'y_pred_neuro_comb': y_pred_neuro_comb,\n",
    "                                 'y_pred_comb': y_pred_comb,\n",
    "                                 'y_test': y_test}\n",
    "                    )\n",
    "        \n",
    "        # Store this\n",
    "        new_preds_dict[score].append(preds_df)\n",
    "    \n",
    "    print(\"split %d finished\" % i_split)\n",
    "    i_split = i_split + 1\n",
    "\n",
    "# compute final execution time and elapsed time\n",
    "done = time.time()\n",
    "elapsed_time = done - start"
   ]
  },
  {
   "cell_type": "code",
   "execution_count": 41,
   "metadata": {},
   "outputs": [],
   "source": [
    "new_y_scores = []\n",
    "for ii in range(2):\n",
    "    new_y_scores.append(list(np.median(new_single_r2_scores[:, ii, :n_mods], axis=0)) + [np.median(new_neuro_comb_r2_scores[:,ii])])"
   ]
  },
  {
   "cell_type": "code",
   "execution_count": 42,
   "metadata": {},
   "outputs": [
    {
     "data": {
      "text/html": [
       "<div>\n",
       "<style scoped>\n",
       "    .dataframe tbody tr th:only-of-type {\n",
       "        vertical-align: middle;\n",
       "    }\n",
       "\n",
       "    .dataframe tbody tr th {\n",
       "        vertical-align: top;\n",
       "    }\n",
       "\n",
       "    .dataframe thead th {\n",
       "        text-align: right;\n",
       "    }\n",
       "</style>\n",
       "<table border=\"1\" class=\"dataframe\">\n",
       "  <thead>\n",
       "    <tr style=\"text-align: right;\">\n",
       "      <th></th>\n",
       "      <th>CONNECTOME</th>\n",
       "      <th>SURFACE</th>\n",
       "      <th>THICKNESS</th>\n",
       "      <th>SUB_VOLUMES</th>\n",
       "      <th>LOCAL_CONN</th>\n",
       "      <th>STACKING</th>\n",
       "    </tr>\n",
       "  </thead>\n",
       "  <tbody>\n",
       "    <tr>\n",
       "      <th>SCPT_TPRT</th>\n",
       "      <td>-0.005574</td>\n",
       "      <td>-0.005623</td>\n",
       "      <td>-0.005367</td>\n",
       "      <td>-0.005318</td>\n",
       "      <td>-0.002642</td>\n",
       "      <td>-0.005512</td>\n",
       "    </tr>\n",
       "    <tr>\n",
       "      <th>NEOFAC_E</th>\n",
       "      <td>-0.004488</td>\n",
       "      <td>-0.005430</td>\n",
       "      <td>-0.006925</td>\n",
       "      <td>-0.004554</td>\n",
       "      <td>-0.004986</td>\n",
       "      <td>-0.007718</td>\n",
       "    </tr>\n",
       "  </tbody>\n",
       "</table>\n",
       "</div>"
      ],
      "text/plain": [
       "           CONNECTOME   SURFACE  THICKNESS  SUB_VOLUMES  LOCAL_CONN  STACKING\n",
       "SCPT_TPRT   -0.005574 -0.005623  -0.005367    -0.005318   -0.002642 -0.005512\n",
       "NEOFAC_E    -0.004488 -0.005430  -0.006925    -0.004554   -0.004986 -0.007718"
      ]
     },
     "execution_count": 42,
     "metadata": {},
     "output_type": "execute_result"
    }
   ],
   "source": [
    "new_y_scores_df = pd.DataFrame(new_y_scores, columns=modality_names + ['STACKING'])\n",
    "new_y_scores_df.index = new_vars\n",
    "new_y_scores_df"
   ]
  },
  {
   "cell_type": "code",
   "execution_count": 50,
   "metadata": {},
   "outputs": [],
   "source": [
    "with h5py.File(\"../results/misc/new_scores_results.hdf5\", \"w\") as f:\n",
    "    f.create_dataset('short_penn_median_time', data=new_y_scores[0])\n",
    "    f.create_dataset('neofac_extraversion', data=new_y_scores[1])"
   ]
  },
  {
   "cell_type": "markdown",
   "metadata": {},
   "source": [
    "# REVIEWER 3: SINGLE GRAND LASSO-PCR (ALL DATA TOGETHER)"
   ]
  },
  {
   "cell_type": "code",
   "execution_count": 18,
   "metadata": {},
   "outputs": [],
   "source": [
    "from sklearn.pipeline import make_pipeline"
   ]
  },
  {
   "cell_type": "code",
   "execution_count": 19,
   "metadata": {},
   "outputs": [],
   "source": [
    "XX_single = np.column_stack((X_conn, X_surf, X_thic, X_subv, X_locc))"
   ]
  },
  {
   "cell_type": "code",
   "execution_count": 20,
   "metadata": {},
   "outputs": [
    {
     "name": "stdout",
     "output_type": "stream",
     "text": [
      "The concatenated data has dimensions = (1028, 387082)\n"
     ]
    }
   ],
   "source": [
    "print(\"The concatenated data has dimensions =\", XX_single.shape)"
   ]
  },
  {
   "cell_type": "code",
   "execution_count": 21,
   "metadata": {},
   "outputs": [],
   "source": [
    "yy = YY_domain_cognition[:, 0] # Just use Global Cognitive Function"
   ]
  },
  {
   "cell_type": "code",
   "execution_count": 22,
   "metadata": {},
   "outputs": [],
   "source": [
    "pip = make_pipeline(VarianceThreshold(), StandardScaler(), PCA(), LassoCV(max_iter = 1e6, cv = 5, n_jobs=-1, random_state = 0))"
   ]
  },
  {
   "cell_type": "code",
   "execution_count": 34,
   "metadata": {},
   "outputs": [
    {
     "name": "stdout",
     "output_type": "stream",
     "text": [
      "0.06\n",
      "split 1 finished\n",
      "0.042\n",
      "split 2 finished\n",
      "0.058\n",
      "split 3 finished\n",
      "0.046\n",
      "split 4 finished\n",
      "0.038\n",
      "split 5 finished\n",
      "0.058\n",
      "split 6 finished\n",
      "0.028\n",
      "split 7 finished\n",
      "0.067\n",
      "split 8 finished\n",
      "0.046\n",
      "split 9 finished\n",
      "0.052\n",
      "split 10 finished\n",
      "0.081\n",
      "split 11 finished\n",
      "0.073\n",
      "split 12 finished\n",
      "0.053\n",
      "split 13 finished\n",
      "0.045\n",
      "split 14 finished\n",
      "0.052\n",
      "split 15 finished\n",
      "0.028\n",
      "split 16 finished\n",
      "0.056\n",
      "split 17 finished\n",
      "0.085\n",
      "split 18 finished\n",
      "0.052\n",
      "split 19 finished\n",
      "0.036\n",
      "split 20 finished\n",
      "0.087\n",
      "split 21 finished\n",
      "0.049\n",
      "split 22 finished\n",
      "0.074\n",
      "split 23 finished\n",
      "0.052\n",
      "split 24 finished\n",
      "0.022\n",
      "split 25 finished\n",
      "0.041\n",
      "split 26 finished\n",
      "0.03\n",
      "split 27 finished\n",
      "0.059\n",
      "split 28 finished\n",
      "0.068\n",
      "split 29 finished\n",
      "0.039\n",
      "split 30 finished\n",
      "0.043\n",
      "split 31 finished\n",
      "0.058\n",
      "split 32 finished\n",
      "0.07\n",
      "split 33 finished\n",
      "0.026\n",
      "split 34 finished\n",
      "0.044\n",
      "split 35 finished\n",
      "0.042\n",
      "split 36 finished\n",
      "0.046\n",
      "split 37 finished\n",
      "0.017\n",
      "split 38 finished\n",
      "0.065\n",
      "split 39 finished\n",
      "0.035\n",
      "split 40 finished\n",
      "0.061\n",
      "split 41 finished\n",
      "0.043\n",
      "split 42 finished\n",
      "0.06\n",
      "split 43 finished\n",
      "0.053\n",
      "split 44 finished\n",
      "0.026\n",
      "split 45 finished\n",
      "0.045\n",
      "split 46 finished\n",
      "0.062\n",
      "split 47 finished\n",
      "0.065\n",
      "split 48 finished\n",
      "0.045\n",
      "split 49 finished\n",
      "0.056\n",
      "split 50 finished\n",
      "0.07\n",
      "split 51 finished\n",
      "0.049\n",
      "split 52 finished\n",
      "0.048\n",
      "split 53 finished\n",
      "0.032\n",
      "split 54 finished\n",
      "0.038\n",
      "split 55 finished\n",
      "0.03\n",
      "split 56 finished\n",
      "0.034\n",
      "split 57 finished\n",
      "0.005\n",
      "split 58 finished\n",
      "0.054\n",
      "split 59 finished\n",
      "0.016\n",
      "split 60 finished\n",
      "0.026\n",
      "split 61 finished\n",
      "0.051\n",
      "split 62 finished\n",
      "0.04\n",
      "split 63 finished\n",
      "0.034\n",
      "split 64 finished\n",
      "0.065\n",
      "split 65 finished\n",
      "0.07\n",
      "split 66 finished\n",
      "0.041\n",
      "split 67 finished\n",
      "0.04\n",
      "split 68 finished\n",
      "0.057\n",
      "split 69 finished\n",
      "0.03\n",
      "split 70 finished\n",
      "0.075\n",
      "split 71 finished\n",
      "0.072\n",
      "split 72 finished\n",
      "0.054\n",
      "split 73 finished\n",
      "-0.005\n",
      "split 74 finished\n",
      "0.047\n",
      "split 75 finished\n",
      "0.034\n",
      "split 76 finished\n",
      "0.06\n",
      "split 77 finished\n",
      "0.034\n",
      "split 78 finished\n",
      "0.001\n",
      "split 79 finished\n",
      "0.032\n",
      "split 80 finished\n",
      "0.062\n",
      "split 81 finished\n",
      "0.061\n",
      "split 82 finished\n",
      "0.015\n",
      "split 83 finished\n",
      "0.02\n",
      "split 84 finished\n",
      "0.034\n",
      "split 85 finished\n",
      "0.057\n",
      "split 86 finished\n",
      "0.049\n",
      "split 87 finished\n",
      "0.052\n",
      "split 88 finished\n",
      "0.081\n",
      "split 89 finished\n",
      "0.034\n",
      "split 90 finished\n",
      "0.061\n",
      "split 91 finished\n",
      "0.046\n",
      "split 92 finished\n",
      "0.092\n",
      "split 93 finished\n",
      "0.062\n",
      "split 94 finished\n",
      "0.066\n",
      "split 95 finished\n",
      "0.017\n",
      "split 96 finished\n",
      "0.04\n",
      "split 97 finished\n",
      "0.057\n",
      "split 98 finished\n",
      "0.027\n",
      "split 99 finished\n",
      "0.017\n",
      "split 100 finished\n"
     ]
    }
   ],
   "source": [
    "r2_global_single_grand_lasso = []\n",
    "i_split=0\n",
    "for train_index, test_index in partition_idxs:\n",
    "    \n",
    "    XX_single_train, XX_single_test = XX_single[train_index], XX_single[test_index]\n",
    "    \n",
    "    yy_train = yy[train_index]\n",
    "    yy_test = yy[test_index]\n",
    "    \n",
    "    icv_train = icv_var[train_index]\n",
    "    icv_test = icv_var[test_index]\n",
    "    \n",
    "    # Remove ICV effects\n",
    "    linReg = LinearRegression()\n",
    "    linReg.fit(icv_train[:, np.newaxis], yy_train)\n",
    "    yy_train_adj = yy_train - linReg.predict(icv_train[:, np.newaxis]) + linReg.intercept_\n",
    "    yy_test_adj = yy_test - linReg.predict(icv_test[:, np.newaxis]) + linReg.intercept_\n",
    "    \n",
    "    # Train\n",
    "    pip.fit(XX_single_train, yy_train_adj)\n",
    "    # Predict\n",
    "    r2  = pip.score(XX_single_test, yy_test_adj)\n",
    "    \n",
    "    r2_global_single_grand_lasso.append(r2)\n",
    "    \n",
    "    \n",
    "    i_split = i_split + 1\n",
    "    print(np.round(r2,3))\n",
    "    print(\"split %d finished\" % i_split)"
   ]
  },
  {
   "cell_type": "code",
   "execution_count": 35,
   "metadata": {},
   "outputs": [
    {
     "name": "stdout",
     "output_type": "stream",
     "text": [
      "mean  =  0.047\n",
      "iqr  =  0.026\n",
      "cilo  =  0.044\n",
      "cihi  =  0.052\n",
      "whishi  =  0.092\n",
      "whislo  =  0.001\n",
      "fliers  =  [-0.005]\n",
      "q1  =  0.034\n",
      "med  =  0.047\n",
      "q3  =  0.06\n"
     ]
    }
   ],
   "source": [
    "from matplotlib.cbook import boxplot_stats\n",
    "\n",
    "np.random.seed(0)\n",
    "for key, value in boxplot_stats(r2_global_single_grand_lasso, bootstrap=1000)[0].items():\n",
    "    print(key, \" = \", np.round(value, 3))"
   ]
  },
  {
   "cell_type": "code",
   "execution_count": 38,
   "metadata": {},
   "outputs": [],
   "source": [
    "with h5py.File(\"../results/misc/single_grand_lasso_global_cognition_scores.hdf5\", \"w\") as f:\n",
    "    f.create_dataset('single_grand_lasso_global_cognition_scores', data=r2_global_single_grand_lasso)"
   ]
  }
 ],
 "metadata": {
  "kernelspec": {
   "display_name": "Python 3",
   "language": "python",
   "name": "python3"
  },
  "language_info": {
   "codemirror_mode": {
    "name": "ipython",
    "version": 3
   },
   "file_extension": ".py",
   "mimetype": "text/x-python",
   "name": "python",
   "nbconvert_exporter": "python",
   "pygments_lexer": "ipython3",
   "version": "3.8.5"
  }
 },
 "nbformat": 4,
 "nbformat_minor": 4
}
